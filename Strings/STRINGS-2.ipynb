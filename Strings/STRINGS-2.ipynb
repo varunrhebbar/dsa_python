{
 "cells": [
  {
   "cell_type": "code",
   "execution_count": 3,
   "id": "a15fee00",
   "metadata": {},
   "outputs": [
    {
     "name": "stdout",
     "output_type": "stream",
     "text": [
      "abcd\n",
      "a\n",
      "ab\n",
      "abc\n",
      "abcd\n",
      "b\n",
      "bc\n",
      "bcd\n",
      "c\n",
      "cd\n",
      "d\n"
     ]
    }
   ],
   "source": [
    "def substring(str):\n",
    "    for i in range(n):\n",
    "        for len in range(i+1,n+1):\n",
    "            print(str[i:len])\n",
    "str=input()\n",
    "n=len(str)\n",
    "substring(str)"
   ]
  },
  {
   "cell_type": "code",
   "execution_count": 19,
   "id": "c41e07fd",
   "metadata": {},
   "outputs": [
    {
     "name": "stdout",
     "output_type": "stream",
     "text": [
      "varun\n",
      "varun\n",
      "varnu\n",
      "vanru\n",
      "vanur\n",
      "varun\n",
      "varnu\n",
      "vranu\n",
      "vraun\n",
      "vruan\n",
      "vruna\n",
      "vranu\n",
      "vraun\n",
      "vuarn\n",
      "vuanr\n",
      "vunar\n",
      "vunra\n",
      "vuarn\n",
      "vuanr\n",
      "vranu\n",
      "vraun\n",
      "vruan\n",
      "vruna\n",
      "vranu\n",
      "vraun\n",
      "rvaun\n",
      "rvanu\n",
      "rvnau\n",
      "rvnua\n",
      "rvaun\n",
      "rvanu\n",
      "ravnu\n",
      "ravun\n",
      "rauvn\n",
      "raunv\n",
      "ravnu\n",
      "ravun\n",
      "ruvan\n",
      "ruvna\n",
      "runva\n",
      "runav\n",
      "ruvan\n",
      "ruvna\n",
      "ravnu\n",
      "ravun\n",
      "rauvn\n",
      "raunv\n",
      "ravnu\n",
      "ravun\n",
      "varun\n",
      "varnu\n",
      "vanru\n",
      "vanur\n",
      "varun\n",
      "varnu\n",
      "vranu\n",
      "vraun\n",
      "vruan\n",
      "vruna\n",
      "vranu\n",
      "vraun\n",
      "vuarn\n",
      "vuanr\n",
      "vunar\n",
      "vunra\n",
      "vuarn\n",
      "vuanr\n",
      "vranu\n",
      "vraun\n",
      "vruan\n",
      "vruna\n",
      "vranu\n",
      "vraun\n",
      "uravn\n",
      "uranv\n",
      "urnav\n",
      "urnva\n",
      "uravn\n",
      "uranv\n",
      "uarnv\n",
      "uarvn\n",
      "uavrn\n",
      "uavnr\n",
      "uarnv\n",
      "uarvn\n",
      "uvran\n",
      "uvrna\n",
      "uvnra\n",
      "uvnar\n",
      "uvran\n",
      "uvrna\n",
      "uarnv\n",
      "uarvn\n",
      "uavrn\n",
      "uavnr\n",
      "uarnv\n",
      "uarvn\n",
      "narvu\n",
      "naruv\n",
      "naurv\n",
      "nauvr\n",
      "narvu\n",
      "naruv\n",
      "nrauv\n",
      "nravu\n",
      "nrvau\n",
      "nrvua\n",
      "nrauv\n",
      "nravu\n",
      "nvaru\n",
      "nvaur\n",
      "nvuar\n",
      "nvura\n",
      "nvaru\n",
      "nvaur\n",
      "nrauv\n",
      "nravu\n",
      "nrvau\n",
      "nrvua\n",
      "nrauv\n",
      "nravu\n"
     ]
    }
   ],
   "source": [
    "def tostring(List):\n",
    "    return ''.join(List)\n",
    "def permutation(strg,left,right):\n",
    "    if left==right:\n",
    "       print(tostring(strg))\n",
    "    else:\n",
    "        for i in range(left,right+1):\n",
    "            strg[left],strg[i]=strg[i],strg[left]\n",
    "            permutation(strg,left+1,right)\n",
    "string=input()\n",
    "strg=list(string)\n",
    "left=0\n",
    "right=len(string)-1\n",
    "permutation(strg,left,right)"
   ]
  },
  {
   "cell_type": "code",
   "execution_count": 36,
   "id": "688e677b",
   "metadata": {},
   "outputs": [
    {
     "name": "stdout",
     "output_type": "stream",
     "text": [
      "1010111000\n",
      "2\n"
     ]
    }
   ],
   "source": [
    "def split(arr):\n",
    "    count1=0\n",
    "    count2=0\n",
    "    res=0\n",
    "    for i in range(n):\n",
    "        if str[i]=='0':\n",
    "            count1+=1\n",
    "        else:\n",
    "            count2+=1\n",
    "        if count1==count2:\n",
    "            res+=1\n",
    "    if count1!=count2:\n",
    "        return -1\n",
    "    return res\n",
    "arr=input()\n",
    "n=len(str)\n",
    "print(split(str))           "
   ]
  },
  {
   "cell_type": "code",
   "execution_count": 55,
   "id": "66664d60",
   "metadata": {},
   "outputs": [
    {
     "name": "stdout",
     "output_type": "stream",
     "text": [
      "varun\n",
      "v"
     ]
    }
   ],
   "source": [
    "from collections import Counter\n",
    "def firstnonrepeating(str):\n",
    "    freq=Counter(str)\n",
    "    for i in str:\n",
    "        if freq[i]==1:\n",
    "            print(i,end=\"\")\n",
    "            break \n",
    "str=input()\n",
    "firstnonrepeating(str)"
   ]
  },
  {
   "cell_type": "code",
   "execution_count": 71,
   "id": "733412e4",
   "metadata": {},
   "outputs": [
    {
     "name": "stdout",
     "output_type": "stream",
     "text": [
      "a\n",
      "No repeating char\n"
     ]
    },
    {
     "data": {
      "text/plain": [
       "0"
      ]
     },
     "execution_count": 71,
     "metadata": {},
     "output_type": "execute_result"
    }
   ],
   "source": [
    "def nonrepeating(str):\n",
    "    for i in range(0,n):\n",
    "        for j in range(1,n+1):\n",
    "            if(str[i]==str[j]):\n",
    "                print(str[i] )\n",
    "            else:\n",
    "                print(\"No repeating char\")\n",
    "                break\n",
    "        return 0\n",
    "str=\"aabb\"\n",
    "n=len(str)\n",
    "nonrepeating(str)           "
   ]
  },
  {
   "cell_type": "code",
   "execution_count": 82,
   "id": "3c71b0c9",
   "metadata": {},
   "outputs": [
    {
     "name": "stdout",
     "output_type": "stream",
     "text": [
      "['a', 'r', 'b']\n"
     ]
    }
   ],
   "source": [
    "string=\"varunrhebbar\"\n",
    "dup=[]\n",
    "for  char in string:\n",
    "    if string.count(char)>1:\n",
    "        if char not in dup:\n",
    "            dup.append(char)\n",
    "print(dup)\n"
   ]
  },
  {
   "cell_type": "code",
   "execution_count": 90,
   "id": "d3a99b30",
   "metadata": {},
   "outputs": [
    {
     "name": "stdout",
     "output_type": "stream",
     "text": [
      "VARUN\n",
      "nurav\n"
     ]
    },
    {
     "data": {
      "text/plain": [
       "False"
      ]
     },
     "execution_count": 90,
     "metadata": {},
     "output_type": "execute_result"
    }
   ],
   "source": [
    "# anagram check\n",
    "def anagram(stra,strb):\n",
    "    if sorted(stra)==sorted(strb):\n",
    "        print(\"Anagram to eacah other\")\n",
    "    else:\n",
    "        return False\n",
    "stra=input()\n",
    "strb=input()\n",
    "anagram(stra,strb)\n"
   ]
  },
  {
   "cell_type": "code",
   "execution_count": null,
   "id": "512b4c7e",
   "metadata": {},
   "outputs": [],
   "source": [
    "#Anagram search in a string\n"
   ]
  }
 ],
 "metadata": {
  "kernelspec": {
   "display_name": "Python 3 (ipykernel)",
   "language": "python",
   "name": "python3"
  },
  "language_info": {
   "codemirror_mode": {
    "name": "ipython",
    "version": 3
   },
   "file_extension": ".py",
   "mimetype": "text/x-python",
   "name": "python",
   "nbconvert_exporter": "python",
   "pygments_lexer": "ipython3",
   "version": "3.9.7"
  }
 },
 "nbformat": 4,
 "nbformat_minor": 5
}
