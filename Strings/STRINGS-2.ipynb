{
 "cells": [
  {
   "cell_type": "code",
   "execution_count": 3,
   "id": "a15fee00",
   "metadata": {},
   "outputs": [
    {
     "name": "stdout",
     "output_type": "stream",
     "text": [
      "abcd\n",
      "a\n",
      "ab\n",
      "abc\n",
      "abcd\n",
      "b\n",
      "bc\n",
      "bcd\n",
      "c\n",
      "cd\n",
      "d\n"
     ]
    }
   ],
   "source": [
    "def substring(str):\n",
    "    for i in range(n):\n",
    "        for len in range(i+1,n+1):\n",
    "            print(str[i:len])\n",
    "str=input()\n",
    "n=len(str)\n",
    "substring(str)"
   ]
  },
  {
   "cell_type": "code",
   "execution_count": 19,
   "id": "c41e07fd",
   "metadata": {},
   "outputs": [
    {
     "name": "stdout",
     "output_type": "stream",
     "text": [
      "varun\n",
      "varun\n",
      "varnu\n",
      "vanru\n",
      "vanur\n",
      "varun\n",
      "varnu\n",
      "vranu\n",
      "vraun\n",
      "vruan\n",
      "vruna\n",
      "vranu\n",
      "vraun\n",
      "vuarn\n",
      "vuanr\n",
      "vunar\n",
      "vunra\n",
      "vuarn\n",
      "vuanr\n",
      "vranu\n",
      "vraun\n",
      "vruan\n",
      "vruna\n",
      "vranu\n",
      "vraun\n",
      "rvaun\n",
      "rvanu\n",
      "rvnau\n",
      "rvnua\n",
      "rvaun\n",
      "rvanu\n",
      "ravnu\n",
      "ravun\n",
      "rauvn\n",
      "raunv\n",
      "ravnu\n",
      "ravun\n",
      "ruvan\n",
      "ruvna\n",
      "runva\n",
      "runav\n",
      "ruvan\n",
      "ruvna\n",
      "ravnu\n",
      "ravun\n",
      "rauvn\n",
      "raunv\n",
      "ravnu\n",
      "ravun\n",
      "varun\n",
      "varnu\n",
      "vanru\n",
      "vanur\n",
      "varun\n",
      "varnu\n",
      "vranu\n",
      "vraun\n",
      "vruan\n",
      "vruna\n",
      "vranu\n",
      "vraun\n",
      "vuarn\n",
      "vuanr\n",
      "vunar\n",
      "vunra\n",
      "vuarn\n",
      "vuanr\n",
      "vranu\n",
      "vraun\n",
      "vruan\n",
      "vruna\n",
      "vranu\n",
      "vraun\n",
      "uravn\n",
      "uranv\n",
      "urnav\n",
      "urnva\n",
      "uravn\n",
      "uranv\n",
      "uarnv\n",
      "uarvn\n",
      "uavrn\n",
      "uavnr\n",
      "uarnv\n",
      "uarvn\n",
      "uvran\n",
      "uvrna\n",
      "uvnra\n",
      "uvnar\n",
      "uvran\n",
      "uvrna\n",
      "uarnv\n",
      "uarvn\n",
      "uavrn\n",
      "uavnr\n",
      "uarnv\n",
      "uarvn\n",
      "narvu\n",
      "naruv\n",
      "naurv\n",
      "nauvr\n",
      "narvu\n",
      "naruv\n",
      "nrauv\n",
      "nravu\n",
      "nrvau\n",
      "nrvua\n",
      "nrauv\n",
      "nravu\n",
      "nvaru\n",
      "nvaur\n",
      "nvuar\n",
      "nvura\n",
      "nvaru\n",
      "nvaur\n",
      "nrauv\n",
      "nravu\n",
      "nrvau\n",
      "nrvua\n",
      "nrauv\n",
      "nravu\n"
     ]
    }
   ],
   "source": [
    "def tostring(List):\n",
    "    return ''.join(List)\n",
    "def permutation(strg,left,right):\n",
    "    if left==right:\n",
    "       print(tostring(strg))\n",
    "    else:\n",
    "        for i in range(left,right+1):\n",
    "            strg[left],strg[i]=strg[i],strg[left]\n",
    "            permutation(strg,left+1,right)\n",
    "string=input()\n",
    "strg=list(string)\n",
    "left=0\n",
    "right=len(string)-1\n",
    "permutation(strg,left,right)"
   ]
  },
  {
   "cell_type": "code",
   "execution_count": 36,
   "id": "21aba950",
   "metadata": {},
   "outputs": [
    {
     "name": "stdout",
     "output_type": "stream",
     "text": [
      "1010111000\n",
      "2\n"
     ]
    }
   ],
   "source": [
    "def split(arr):\n",
    "    count1=0\n",
    "    count2=0\n",
    "    res=0\n",
    "    for i in range(n):\n",
    "        if str[i]=='0':\n",
    "            count1+=1\n",
    "        else:\n",
    "            count2+=1\n",
    "        if count1==count2:\n",
    "            res+=1\n",
    "    if count1!=count2:\n",
    "        return -1\n",
    "    return res\n",
    "arr=input()\n",
    "n=len(str)\n",
    "print(split(str))           "
   ]
  },
  {
   "cell_type": "code",
   "execution_count": 55,
   "id": "e351d88a",
   "metadata": {},
   "outputs": [
    {
     "name": "stdout",
     "output_type": "stream",
     "text": [
      "varun\n",
      "v"
     ]
    }
   ],
   "source": [
    "from collections import Counter\n",
    "def firstnonrepeating(str):\n",
    "    freq=Counter(str)\n",
    "    for i in str:\n",
    "        if freq[i]==1:\n",
    "            print(i,end=\"\")\n",
    "            break \n",
    "str=input()\n",
    "firstnonrepeating(str)"
   ]
  },
  {
   "cell_type": "code",
   "execution_count": 71,
   "id": "e622ec34",
   "metadata": {},
   "outputs": [
    {
     "name": "stdout",
     "output_type": "stream",
     "text": [
      "a\n",
      "No repeating char\n"
     ]
    },
    {
     "data": {
      "text/plain": [
       "0"
      ]
     },
     "execution_count": 71,
     "metadata": {},
     "output_type": "execute_result"
    }
   ],
   "source": [
    "def nonrepeating(str):\n",
    "    for i in range(0,n):\n",
    "        for j in range(1,n+1):\n",
    "            if(str[i]==str[j]):\n",
    "                print(str[i] )\n",
    "            else:\n",
    "                print(\"No repeating char\")\n",
    "                break\n",
    "        return 0\n",
    "str=\"aabb\"\n",
    "n=len(str)\n",
    "nonrepeating(str)           "
   ]
  },
  {
   "cell_type": "code",
   "execution_count": 82,
   "id": "5b9bdc90",
   "metadata": {},
   "outputs": [
    {
     "name": "stdout",
     "output_type": "stream",
     "text": [
      "['a', 'r', 'b']\n"
     ]
    }
   ],
   "source": [
    "string=\"varunrhebbar\"\n",
    "dup=[]\n",
    "for  char in string:\n",
    "    if string.count(char)>1:\n",
    "        if char not in dup:\n",
    "            dup.append(char)\n",
    "print(dup)\n"
   ]
  },
  {
   "cell_type": "code",
   "execution_count": 91,
   "id": "06dcc27e",
   "metadata": {},
   "outputs": [
    {
     "name": "stdout",
     "output_type": "stream",
     "text": [
      "varun\n",
      "nirav\n",
      "Not anagram\n"
     ]
    }
   ],
   "source": [
    "# anagram check\n",
    "def anagram(stra,strb):\n",
    "    if sorted(stra)==sorted(strb):\n",
    "        print(\"Anagram to each other\")\n",
    "    else:\n",
    "        print(\"Not anagram\")\n",
    "stra=input()\n",
    "strb=input()\n",
    "anagram(stra,strb)\n"
   ]
  },
  {
   "cell_type": "code",
   "execution_count": 130,
   "id": "b60d591e",
   "metadata": {},
   "outputs": [
    {
     "name": "stdout",
     "output_type": "stream",
     "text": [
      "Found at Index 8\n"
     ]
    }
   ],
   "source": [
    "#Anagram search in a string\n",
    "MAX=256\n",
    "def search(pat,text):\n",
    "    M=len(pat)\n",
    "    N=len(text)\n",
    "    countP=[0]*MAX\n",
    "    countT=[0]*MAX\n",
    "    for i in range(M):\n",
    "        (countP[ord(pat[i]) ]) += 1\n",
    "        (countT[ord(text[i]) ]) += 1\n",
    "    for i in range(M,N):\n",
    "        if compare(countP,countT):\n",
    "            print(\"found at\",i-M)\n",
    "        (countT[ord(text[i])])+=1\n",
    "        (countT[ord(text[i-M])])-=1\n",
    "    if compare(countP, countT):\n",
    "            print(\"Found at Index\", N-M)\n",
    "def compare(str1,str2):\n",
    "    for i in range(MAX):\n",
    "        if str1[i]!=str2[i]:\n",
    "            return False\n",
    "    return True\n",
    "text=\"varunrhebbar\"\n",
    "pat=\"bbar\"\n",
    "search(pat,text) "
   ]
  },
  {
   "cell_type": "code",
   "execution_count": 133,
   "id": "75bd8af7",
   "metadata": {},
   "outputs": [
    {
     "name": "stdout",
     "output_type": "stream",
     "text": [
      "['GeeksforGeeks', 'A', 'computer', 'science', 'portal', 'for', 'geeks', '']\n",
      "portal appear at  1 times\n"
     ]
    }
   ],
   "source": [
    "#count the no of words\n",
    "\n",
    "def countOccurrences(str, word):\n",
    "    a = str.split(\" \")\n",
    "    print(a)\n",
    "    count = 0\n",
    "    for i in range(0, len(a)):\n",
    "        if (word == a[i]):\n",
    "            count = count + 1\n",
    "    return count\n",
    "str =\"GeeksforGeeks A computer science portal for geeks \"\n",
    "word =\"portal\"\n",
    "print(word,\"appear at \",countOccurrences(str, word),\"times\")\n"
   ]
  },
  {
   "cell_type": "code",
   "execution_count": 145,
   "id": "695044b5",
   "metadata": {},
   "outputs": [
    {
     "ename": "KeyboardInterrupt",
     "evalue": "Interrupted by user",
     "output_type": "error",
     "traceback": [
      "\u001b[1;31m---------------------------------------------------------------------------\u001b[0m",
      "\u001b[1;31mKeyboardInterrupt\u001b[0m                         Traceback (most recent call last)",
      "\u001b[1;32m~\\AppData\\Local\\Temp/ipykernel_17672/2987392668.py\u001b[0m in \u001b[0;36m<module>\u001b[1;34m\u001b[0m\n\u001b[1;32m----> 1\u001b[1;33m \u001b[0mtext\u001b[0m\u001b[1;33m=\u001b[0m\u001b[0minput\u001b[0m\u001b[1;33m(\u001b[0m\u001b[1;33m)\u001b[0m\u001b[1;33m\u001b[0m\u001b[1;33m\u001b[0m\u001b[0m\n\u001b[0m\u001b[0;32m      2\u001b[0m \u001b[0mpat\u001b[0m\u001b[1;33m=\u001b[0m\u001b[0minput\u001b[0m\u001b[1;33m(\u001b[0m\u001b[1;33m)\u001b[0m\u001b[1;33m\u001b[0m\u001b[1;33m\u001b[0m\u001b[0m\n\u001b[0;32m      3\u001b[0m \u001b[0mM\u001b[0m\u001b[1;33m=\u001b[0m\u001b[0mlen\u001b[0m\u001b[1;33m(\u001b[0m\u001b[0mpat\u001b[0m\u001b[1;33m)\u001b[0m\u001b[1;33m\u001b[0m\u001b[1;33m\u001b[0m\u001b[0m\n\u001b[0;32m      4\u001b[0m \u001b[0mN\u001b[0m\u001b[1;33m=\u001b[0m\u001b[0mlen\u001b[0m\u001b[1;33m(\u001b[0m\u001b[0mtext\u001b[0m\u001b[1;33m)\u001b[0m\u001b[1;33m\u001b[0m\u001b[1;33m\u001b[0m\u001b[0m\n\u001b[0;32m      5\u001b[0m \u001b[0mres\u001b[0m\u001b[1;33m=\u001b[0m\u001b[1;36m0\u001b[0m\u001b[1;33m\u001b[0m\u001b[1;33m\u001b[0m\u001b[0m\n",
      "\u001b[1;32mC:\\ProgramData\\Anaconda3\\lib\\site-packages\\ipykernel\\kernelbase.py\u001b[0m in \u001b[0;36mraw_input\u001b[1;34m(self, prompt)\u001b[0m\n\u001b[0;32m   1004\u001b[0m                 \u001b[1;34m\"raw_input was called, but this frontend does not support input requests.\"\u001b[0m\u001b[1;33m\u001b[0m\u001b[1;33m\u001b[0m\u001b[0m\n\u001b[0;32m   1005\u001b[0m             )\n\u001b[1;32m-> 1006\u001b[1;33m         return self._input_request(\n\u001b[0m\u001b[0;32m   1007\u001b[0m             \u001b[0mstr\u001b[0m\u001b[1;33m(\u001b[0m\u001b[0mprompt\u001b[0m\u001b[1;33m)\u001b[0m\u001b[1;33m,\u001b[0m\u001b[1;33m\u001b[0m\u001b[1;33m\u001b[0m\u001b[0m\n\u001b[0;32m   1008\u001b[0m             \u001b[0mself\u001b[0m\u001b[1;33m.\u001b[0m\u001b[0m_parent_ident\u001b[0m\u001b[1;33m[\u001b[0m\u001b[1;34m\"shell\"\u001b[0m\u001b[1;33m]\u001b[0m\u001b[1;33m,\u001b[0m\u001b[1;33m\u001b[0m\u001b[1;33m\u001b[0m\u001b[0m\n",
      "\u001b[1;32mC:\\ProgramData\\Anaconda3\\lib\\site-packages\\ipykernel\\kernelbase.py\u001b[0m in \u001b[0;36m_input_request\u001b[1;34m(self, prompt, ident, parent, password)\u001b[0m\n\u001b[0;32m   1049\u001b[0m             \u001b[1;32mexcept\u001b[0m \u001b[0mKeyboardInterrupt\u001b[0m\u001b[1;33m:\u001b[0m\u001b[1;33m\u001b[0m\u001b[1;33m\u001b[0m\u001b[0m\n\u001b[0;32m   1050\u001b[0m                 \u001b[1;31m# re-raise KeyboardInterrupt, to truncate traceback\u001b[0m\u001b[1;33m\u001b[0m\u001b[1;33m\u001b[0m\u001b[0m\n\u001b[1;32m-> 1051\u001b[1;33m                 \u001b[1;32mraise\u001b[0m \u001b[0mKeyboardInterrupt\u001b[0m\u001b[1;33m(\u001b[0m\u001b[1;34m\"Interrupted by user\"\u001b[0m\u001b[1;33m)\u001b[0m \u001b[1;32mfrom\u001b[0m \u001b[1;32mNone\u001b[0m\u001b[1;33m\u001b[0m\u001b[1;33m\u001b[0m\u001b[0m\n\u001b[0m\u001b[0;32m   1052\u001b[0m             \u001b[1;32mexcept\u001b[0m \u001b[0mException\u001b[0m\u001b[1;33m:\u001b[0m\u001b[1;33m\u001b[0m\u001b[1;33m\u001b[0m\u001b[0m\n\u001b[0;32m   1053\u001b[0m                 \u001b[0mself\u001b[0m\u001b[1;33m.\u001b[0m\u001b[0mlog\u001b[0m\u001b[1;33m.\u001b[0m\u001b[0mwarning\u001b[0m\u001b[1;33m(\u001b[0m\u001b[1;34m\"Invalid Message:\"\u001b[0m\u001b[1;33m,\u001b[0m \u001b[0mexc_info\u001b[0m\u001b[1;33m=\u001b[0m\u001b[1;32mTrue\u001b[0m\u001b[1;33m)\u001b[0m\u001b[1;33m\u001b[0m\u001b[1;33m\u001b[0m\u001b[0m\n",
      "\u001b[1;31mKeyboardInterrupt\u001b[0m: Interrupted by user"
     ]
    }
   ],
   "source": [
    "text=input()\n",
    "pat=input()\n",
    "M=len(pat)\n",
    "N=len(text)\n",
    "res=0\n",
    "for i in range(N-M+1):\n",
    "    j=0\n",
    "    while j<M:\n",
    "        if(text[i+j]!=pat[j]):\n",
    "            break\n",
    "        j+=1\n",
    "        if j==M:\n",
    "            res+=1\n",
    "            \n",
    "print(res ) "
   ]
  },
  {
   "cell_type": "code",
   "execution_count": 166,
   "id": "c31db036",
   "metadata": {},
   "outputs": [
    {
     "name": "stdout",
     "output_type": "stream",
     "text": [
      "varun is a good guy\n",
      "['varun', 'is', 'a', 'good', 'guy']\n",
      "varun\n",
      "is varun\n",
      "a is varun\n",
      "good a is varun\n",
      "guy good a is varun\n"
     ]
    }
   ],
   "source": [
    "str=input()\n",
    "a=str.split(' ')\n",
    "#a=str[::-1]\n",
    "print(a)\n",
    "string=[]\n",
    "for word in a:\n",
    "    string.insert(0 , word)\n",
    "    print(\" \".join(string))"
   ]
  },
  {
   "cell_type": "code",
   "execution_count": 167,
   "id": "a9146c4f",
   "metadata": {},
   "outputs": [
    {
     "name": "stdout",
     "output_type": "stream",
     "text": [
      "varun is a good guy\n",
      "yug doog a si nurav\n",
      "y\n",
      "u y\n",
      "g u y\n",
      "  g u y\n",
      "d   g u y\n",
      "o d   g u y\n",
      "o o d   g u y\n",
      "g o o d   g u y\n",
      "  g o o d   g u y\n",
      "a   g o o d   g u y\n",
      "  a   g o o d   g u y\n",
      "s   a   g o o d   g u y\n",
      "i s   a   g o o d   g u y\n",
      "  i s   a   g o o d   g u y\n",
      "n   i s   a   g o o d   g u y\n",
      "u n   i s   a   g o o d   g u y\n",
      "r u n   i s   a   g o o d   g u y\n",
      "a r u n   i s   a   g o o d   g u y\n",
      "v a r u n   i s   a   g o o d   g u y\n"
     ]
    }
   ],
   "source": [
    "str=input()\n",
    "a=str.split(' ')\n",
    "a=str[::-1]\n",
    "print(a)\n",
    "string=[]\n",
    "for word in a:\n",
    "    string.insert(0 , word)\n",
    "    print(\" \".join(string))"
   ]
  },
  {
   "cell_type": "code",
   "execution_count": null,
   "id": "06d4b168",
   "metadata": {},
   "outputs": [],
   "source": []
  }
 ],
 "metadata": {
  "kernelspec": {
   "display_name": "Python 3 (ipykernel)",
   "language": "python",
   "name": "python3"
  },
  "language_info": {
   "codemirror_mode": {
    "name": "ipython",
    "version": 3
   },
   "file_extension": ".py",
   "mimetype": "text/x-python",
   "name": "python",
   "nbconvert_exporter": "python",
   "pygments_lexer": "ipython3",
   "version": "3.9.7"
  }
 },
 "nbformat": 4,
 "nbformat_minor": 5
}
