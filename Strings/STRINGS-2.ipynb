{
 "cells": [
  {
   "cell_type": "code",
   "execution_count": 3,
   "id": "a15fee00",
   "metadata": {},
   "outputs": [
    {
     "name": "stdout",
     "output_type": "stream",
     "text": [
      "abcd\n",
      "a\n",
      "ab\n",
      "abc\n",
      "abcd\n",
      "b\n",
      "bc\n",
      "bcd\n",
      "c\n",
      "cd\n",
      "d\n"
     ]
    }
   ],
   "source": [
    "def substring(str):\n",
    "    for i in range(n):\n",
    "        for len in range(i+1,n+1):\n",
    "            print(str[i:len])\n",
    "str=input()\n",
    "n=len(str)\n",
    "substring(str)"
   ]
  },
  {
   "cell_type": "code",
   "execution_count": 19,
   "id": "c41e07fd",
   "metadata": {},
   "outputs": [
    {
     "name": "stdout",
     "output_type": "stream",
     "text": [
      "varun\n",
      "varun\n",
      "varnu\n",
      "vanru\n",
      "vanur\n",
      "varun\n",
      "varnu\n",
      "vranu\n",
      "vraun\n",
      "vruan\n",
      "vruna\n",
      "vranu\n",
      "vraun\n",
      "vuarn\n",
      "vuanr\n",
      "vunar\n",
      "vunra\n",
      "vuarn\n",
      "vuanr\n",
      "vranu\n",
      "vraun\n",
      "vruan\n",
      "vruna\n",
      "vranu\n",
      "vraun\n",
      "rvaun\n",
      "rvanu\n",
      "rvnau\n",
      "rvnua\n",
      "rvaun\n",
      "rvanu\n",
      "ravnu\n",
      "ravun\n",
      "rauvn\n",
      "raunv\n",
      "ravnu\n",
      "ravun\n",
      "ruvan\n",
      "ruvna\n",
      "runva\n",
      "runav\n",
      "ruvan\n",
      "ruvna\n",
      "ravnu\n",
      "ravun\n",
      "rauvn\n",
      "raunv\n",
      "ravnu\n",
      "ravun\n",
      "varun\n",
      "varnu\n",
      "vanru\n",
      "vanur\n",
      "varun\n",
      "varnu\n",
      "vranu\n",
      "vraun\n",
      "vruan\n",
      "vruna\n",
      "vranu\n",
      "vraun\n",
      "vuarn\n",
      "vuanr\n",
      "vunar\n",
      "vunra\n",
      "vuarn\n",
      "vuanr\n",
      "vranu\n",
      "vraun\n",
      "vruan\n",
      "vruna\n",
      "vranu\n",
      "vraun\n",
      "uravn\n",
      "uranv\n",
      "urnav\n",
      "urnva\n",
      "uravn\n",
      "uranv\n",
      "uarnv\n",
      "uarvn\n",
      "uavrn\n",
      "uavnr\n",
      "uarnv\n",
      "uarvn\n",
      "uvran\n",
      "uvrna\n",
      "uvnra\n",
      "uvnar\n",
      "uvran\n",
      "uvrna\n",
      "uarnv\n",
      "uarvn\n",
      "uavrn\n",
      "uavnr\n",
      "uarnv\n",
      "uarvn\n",
      "narvu\n",
      "naruv\n",
      "naurv\n",
      "nauvr\n",
      "narvu\n",
      "naruv\n",
      "nrauv\n",
      "nravu\n",
      "nrvau\n",
      "nrvua\n",
      "nrauv\n",
      "nravu\n",
      "nvaru\n",
      "nvaur\n",
      "nvuar\n",
      "nvura\n",
      "nvaru\n",
      "nvaur\n",
      "nrauv\n",
      "nravu\n",
      "nrvau\n",
      "nrvua\n",
      "nrauv\n",
      "nravu\n"
     ]
    }
   ],
   "source": [
    "def tostring(List):\n",
    "    return ''.join(List)\n",
    "def permutation(strg,left,right):\n",
    "    if left==right:\n",
    "       print(tostring(strg))\n",
    "    else:\n",
    "        for i in range(left,right+1):\n",
    "            strg[left],strg[i]=strg[i],strg[left]\n",
    "            permutation(strg,left+1,right)\n",
    "string=input()\n",
    "strg=list(string)\n",
    "left=0\n",
    "right=len(string)-1\n",
    "permutation(strg,left,right)"
   ]
  },
  {
   "cell_type": "code",
   "execution_count": 36,
   "id": "955db37d",
   "metadata": {},
   "outputs": [
    {
     "name": "stdout",
     "output_type": "stream",
     "text": [
      "1010111000\n",
      "2\n"
     ]
    }
   ],
   "source": [
    "def split(arr):\n",
    "    count1=0\n",
    "    count2=0\n",
    "    res=0\n",
    "    for i in range(n):\n",
    "        if str[i]=='0':\n",
    "            count1+=1\n",
    "        else:\n",
    "            count2+=1\n",
    "        if count1==count2:\n",
    "            res+=1\n",
    "    if count1!=count2:\n",
    "        return -1\n",
    "    return res\n",
    "arr=input()\n",
    "n=len(str)\n",
    "print(split(str))           "
   ]
  },
  {
   "cell_type": "code",
   "execution_count": 55,
   "id": "8972a3b8",
   "metadata": {},
   "outputs": [
    {
     "name": "stdout",
     "output_type": "stream",
     "text": [
      "varun\n",
      "v"
     ]
    }
   ],
   "source": [
    "from collections import Counter\n",
    "def firstnonrepeating(str):\n",
    "    freq=Counter(str)\n",
    "    for i in str:\n",
    "        if freq[i]==1:\n",
    "            print(i,end=\"\")\n",
    "            break \n",
    "str=input()\n",
    "firstnonrepeating(str)"
   ]
  },
  {
   "cell_type": "code",
   "execution_count": 71,
   "id": "9f22bb73",
   "metadata": {},
   "outputs": [
    {
     "name": "stdout",
     "output_type": "stream",
     "text": [
      "a\n",
      "No repeating char\n"
     ]
    },
    {
     "data": {
      "text/plain": [
       "0"
      ]
     },
     "execution_count": 71,
     "metadata": {},
     "output_type": "execute_result"
    }
   ],
   "source": [
    "def nonrepeating(str):\n",
    "    for i in range(0,n):\n",
    "        for j in range(1,n+1):\n",
    "            if(str[i]==str[j]):\n",
    "                print(str[i] )\n",
    "            else:\n",
    "                print(\"No repeating char\")\n",
    "                break\n",
    "        return 0\n",
    "str=\"aabb\"\n",
    "n=len(str)\n",
    "nonrepeating(str)           "
   ]
  },
  {
   "cell_type": "code",
   "execution_count": 82,
   "id": "9b6da368",
   "metadata": {},
   "outputs": [
    {
     "name": "stdout",
     "output_type": "stream",
     "text": [
      "['a', 'r', 'b']\n"
     ]
    }
   ],
   "source": [
    "string=\"varunrhebbar\"\n",
    "dup=[]\n",
    "for  char in string:\n",
    "    if string.count(char)>1:\n",
    "        if char not in dup:\n",
    "            dup.append(char)\n",
    "print(dup)\n"
   ]
  },
  {
   "cell_type": "code",
   "execution_count": 91,
   "id": "6fe86951",
   "metadata": {},
   "outputs": [
    {
     "name": "stdout",
     "output_type": "stream",
     "text": [
      "varun\n",
      "nirav\n",
      "Not anagram\n"
     ]
    }
   ],
   "source": [
    "# anagram check\n",
    "def anagram(stra,strb):\n",
    "    if sorted(stra)==sorted(strb):\n",
    "        print(\"Anagram to each other\")\n",
    "    else:\n",
    "        print(\"Not anagram\")\n",
    "stra=input()\n",
    "strb=input()\n",
    "anagram(stra,strb)\n"
   ]
  },
  {
   "cell_type": "code",
   "execution_count": 128,
   "id": "c9f1a493",
   "metadata": {},
   "outputs": [
    {
     "name": "stdout",
     "output_type": "stream",
     "text": [
      "Found at Index 8\n"
     ]
    }
   ],
   "source": [
    "#Anagram search in a string\n",
    "MAX=256\n",
    "def search(pat,text):\n",
    "    M=len(pat)\n",
    "    N=len(text)\n",
    "    countP=[0]*MAX\n",
    "    countT=[0]*MAX\n",
    "    for i in range(M):\n",
    "        (countP[ord(pat[i]) ]) += 1\n",
    "        (countT[ord(text[i]) ]) += 1\n",
    "    for i in range(M,N):\n",
    "        if compare(countP,countT):\n",
    "            print(\"found at\",i-M)\n",
    "        (countT[ord(text[i])])+=1\n",
    "        (countT[ord(text[i-M])])-=1\n",
    "    if compare(countP, countT):\n",
    "            print(\"Found at Index\", N-M)\n",
    "def compare(str1,str2):\n",
    "    for i in range(MAX):\n",
    "        if str1[i]!=str2[i]:\n",
    "            return False\n",
    "    return True\n",
    "text=\"varunrhebbar\"\n",
    "pat=\"bbar\"\n",
    "search(pat,text) "
   ]
  },
  {
   "cell_type": "code",
   "execution_count": null,
   "id": "d0ad9c00",
   "metadata": {},
   "outputs": [],
   "source": []
  },
  {
   "cell_type": "code",
   "execution_count": null,
   "id": "fe18a234",
   "metadata": {},
   "outputs": [],
   "source": []
  }
 ],
 "metadata": {
  "kernelspec": {
   "display_name": "Python 3 (ipykernel)",
   "language": "python",
   "name": "python3"
  },
  "language_info": {
   "codemirror_mode": {
    "name": "ipython",
    "version": 3
   },
   "file_extension": ".py",
   "mimetype": "text/x-python",
   "name": "python",
   "nbconvert_exporter": "python",
   "pygments_lexer": "ipython3",
   "version": "3.9.7"
  }
 },
 "nbformat": 4,
 "nbformat_minor": 5
}
