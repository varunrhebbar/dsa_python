{
 "cells": [
  {
   "cell_type": "code",
   "execution_count": 3,
   "id": "a15fee00",
   "metadata": {},
   "outputs": [
    {
     "name": "stdout",
     "output_type": "stream",
     "text": [
      "v\n",
      "va\n",
      "var\n",
      "varu\n",
      "varun\n",
      "a\n",
      "ar\n",
      "aru\n",
      "arun\n",
      "r\n",
      "ru\n",
      "run\n",
      "u\n",
      "un\n",
      "n\n"
     ]
    }
   ],
   "source": [
    "def substring(str,n):\n",
    "    for i in range(n):\n",
    "        for len in range(i+1,n+1):\n",
    "            print(str[i:len])\n",
    "str=\"varun\"\n",
    "n=len(str)\n",
    "substring(str,n)"
   ]
  },
  {
   "cell_type": "code",
   "execution_count": null,
   "id": "c41e07fd",
   "metadata": {},
   "outputs": [],
   "source": []
  }
 ],
 "metadata": {
  "kernelspec": {
   "display_name": "Python 3 (ipykernel)",
   "language": "python",
   "name": "python3"
  },
  "language_info": {
   "codemirror_mode": {
    "name": "ipython",
    "version": 3
   },
   "file_extension": ".py",
   "mimetype": "text/x-python",
   "name": "python",
   "nbconvert_exporter": "python",
   "pygments_lexer": "ipython3",
   "version": "3.9.7"
  }
 },
 "nbformat": 4,
 "nbformat_minor": 5
}
