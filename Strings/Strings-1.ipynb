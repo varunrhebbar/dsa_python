{
 "cells": [
  {
   "cell_type": "code",
   "execution_count": 4,
   "id": "b17697fe",
   "metadata": {},
   "outputs": [
    {
     "name": "stdout",
     "output_type": "stream",
     "text": [
      "Reversed string is nurav\n"
     ]
    }
   ],
   "source": [
    "# Reverse a string\n",
    "def reverse(str):\n",
    "    if len(str)==0:\n",
    "        return str\n",
    "    else:\n",
    "        return reverse(str[1:])+str[0]\n",
    "str=\"varun\" \n",
    "print(\"Reversed string is\",reverse(str))"
   ]
  },
  {
   "cell_type": "code",
   "execution_count": 9,
   "id": "eafe4511",
   "metadata": {},
   "outputs": [
    {
     "name": "stdout",
     "output_type": "stream",
     "text": [
      "NO\n"
     ]
    }
   ],
   "source": [
    "def ispallindrome(str):\n",
    "    rev=''.join(reversed(str))\n",
    "    if(str==rev):\n",
    "        return True\n",
    "    else:\n",
    "        return False\n",
    "str=\"varun\" \n",
    "ans=ispallindrome(str)\n",
    "if (ans):\n",
    "    print(\"yes\")\n",
    "else:\n",
    "    print(\"NO\")"
   ]
  },
  {
   "cell_type": "code",
   "execution_count": null,
   "id": "15d57391",
   "metadata": {},
   "outputs": [],
   "source": [
    "from collections import Counter\n",
    "def duplicates(str):\n",
    "    res=Counter(input)\n",
    "    j=-1\n",
    "    for i in res.Counter():\n",
    "        j=j+1\n",
    "        if(i>1):\n",
    "            print(res.keys()[j])         \n",
    "str=\"varun\"\n",
    "duplicates(str)"
   ]
  },
  {
   "cell_type": "code",
   "execution_count": null,
   "id": "66360e4f",
   "metadata": {},
   "outputs": [],
   "source": []
  },
  {
   "cell_type": "code",
   "execution_count": null,
   "id": "3ab4103d",
   "metadata": {},
   "outputs": [],
   "source": []
  }
 ],
 "metadata": {
  "kernelspec": {
   "display_name": "Python 3 (ipykernel)",
   "language": "python",
   "name": "python3"
  },
  "language_info": {
   "codemirror_mode": {
    "name": "ipython",
    "version": 3
   },
   "file_extension": ".py",
   "mimetype": "text/x-python",
   "name": "python",
   "nbconvert_exporter": "python",
   "pygments_lexer": "ipython3",
   "version": "3.9.7"
  }
 },
 "nbformat": 4,
 "nbformat_minor": 5
}
