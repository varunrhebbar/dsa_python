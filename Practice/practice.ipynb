{
 "cells": [
  {
   "cell_type": "code",
   "execution_count": 8,
   "id": "ecbefcfd",
   "metadata": {},
   "outputs": [
    {
     "name": "stdout",
     "output_type": "stream",
     "text": [
      "29\n"
     ]
    }
   ],
   "source": [
    "#Add without + op\n",
    "def Add(x, y):   \n",
    "    if (y == 0):\n",
    "        return x\n",
    "    else:\n",
    "        return Add( x ^ y, (x & y) << 1)\n",
    "x=10\n",
    "y=19\n",
    "print(Add(x,y))"
   ]
  },
  {
   "cell_type": "code",
   "execution_count": 2,
   "id": "64125fcb",
   "metadata": {},
   "outputs": [
    {
     "data": {
      "text/plain": [
       "121"
      ]
     },
     "execution_count": 2,
     "metadata": {},
     "output_type": "execute_result"
    }
   ],
   "source": [
    "#Add without + op\n",
    "def add(x,y):\n",
    "    for i in range(1,y+1):\n",
    "        x+=1\n",
    "    return x\n",
    "x=10\n",
    "y=111\n",
    "add(x,y)"
   ]
  },
  {
   "cell_type": "code",
   "execution_count": 23,
   "id": "4ed12c99",
   "metadata": {},
   "outputs": [
    {
     "data": {
      "text/plain": [
       "[0, 1, 2, 5, 7, 7, 44, 88, 89]"
      ]
     },
     "execution_count": 23,
     "metadata": {},
     "output_type": "execute_result"
    }
   ],
   "source": [
    "#Merge 2 sorted arrays\n",
    "def merge(nums1,nums2):\n",
    "        nums3=nums1+nums2\n",
    "        nums3.sort()\n",
    "        return nums3\n",
    "        \n",
    "nums1=[1,2,7,89,0]\n",
    "nums2=[5,88,7,44]\n",
    "\n",
    "merge(nums1,nums2)"
   ]
  },
  {
   "cell_type": "code",
   "execution_count": 46,
   "id": "20fa8e45",
   "metadata": {},
   "outputs": [
    {
     "name": "stdout",
     "output_type": "stream",
     "text": [
      "pairs are 3 4\n"
     ]
    }
   ],
   "source": [
    "def paircheck(arr,x,n):\n",
    "    for i in range(0,n-1):\n",
    "        for j in range(i+1,n):\n",
    "            if arr[i]+arr[j]==x:\n",
    "                print(\"pairs are\",arr[i],arr[j])\n",
    "                return True\n",
    "            else:\n",
    "                print(\"No pairs\")  \n",
    "    return 0 \n",
    "arr=[3,4,7,6,2,8] \n",
    "paircheck(arr,x,n)\n",
    "x=7                                            "
   ]
  },
  {
   "cell_type": "code",
   "execution_count": 71,
   "id": "aa1bbe31",
   "metadata": {},
   "outputs": [
    {
     "name": "stdout",
     "output_type": "stream",
     "text": [
      "None\n",
      "6 4 3 2 1 18 9 78 "
     ]
    }
   ],
   "source": [
    "#Reverse an array with k value\n",
    "def reversek(arr,k):\n",
    "    i = 0\n",
    "    while(i<n):\n",
    "        left=i\n",
    "        right=min(k-1+i,n-1);\n",
    "        while (left < right) :\n",
    "            arr[left],arr[right]=arr[right],arr[left];\n",
    "            left+=1\n",
    "            right-=1\n",
    "        i+=k   \n",
    "arr=[1,2,3,4,6,78,9,18]\n",
    "k=5\n",
    "n=len(arr)\n",
    "print(reversek(arr,k))\n",
    "for i in range(0, n):\n",
    "        print(arr[i], end =\" \")"
   ]
  },
  {
   "cell_type": "code",
   "execution_count": 89,
   "id": "6deeb52c",
   "metadata": {},
   "outputs": [
    {
     "name": "stdout",
     "output_type": "stream",
     "text": [
      "-1\n",
      "6\n",
      "11\n",
      "100\n"
     ]
    }
   ],
   "source": [
    "# Leaders in an array\n",
    "def leaders(arr,n):\n",
    "    rightmax=arr[n-1]\n",
    "    print(rightmax)\n",
    "    for i in range(n-2,-1,-1):\n",
    "        if rightmax<arr[i]:\n",
    "            print(arr[i])\n",
    "            rightmax=arr[i]\n",
    "arr=[100,2,5,8,11,6,-1]\n",
    "leaders(arr, len(arr))                "
   ]
  },
  {
   "cell_type": "code",
   "execution_count": 49,
   "id": "647b65d7",
   "metadata": {},
   "outputs": [
    {
     "data": {
      "text/plain": [
       "85"
      ]
     },
     "execution_count": 49,
     "metadata": {},
     "output_type": "execute_result"
    }
   ],
   "source": [
    "def maxsum(arr,k):\n",
    "    max_sum=0\n",
    "    for i in range(n+1-k):\n",
    "        current_sum=0\n",
    "        for j in range(k):\n",
    "            current_sum=current_sum+arr[i+j]\n",
    "            max_sum=max(max_sum,current_sum)\n",
    "    return max_sum\n",
    "arr=[1,2,3,5,8,45,-67,99,-56]\n",
    "n=len(arr)\n",
    "k=n-5\n",
    "maxsum(arr,k)"
   ]
  },
  {
   "cell_type": "code",
   "execution_count": 48,
   "id": "52426ad4",
   "metadata": {},
   "outputs": [
    {
     "data": {
      "text/plain": [
       "85"
      ]
     },
     "execution_count": 48,
     "metadata": {},
     "output_type": "execute_result"
    }
   ],
   "source": [
    "def maxum(arr,k):\n",
    "    if n<k:\n",
    "        print(\"Invalid\")\n",
    "        return -1\n",
    "    wsum=sum(arr[:k])\n",
    "    msum=wsum\n",
    "    for i in range(n-k):\n",
    "        wsum=wsum+arr[k+i]-arr[i]\n",
    "        msum=max(wsum,msum)\n",
    "    return msum\n",
    "\n",
    "arr=[1,2,3,5,8,45,-67,99,-56]\n",
    "n=len(arr)\n",
    "k=n-5\n",
    "maxum(arr,k)"
   ]
  },
  {
   "cell_type": "code",
   "execution_count": 79,
   "id": "a47f8f54",
   "metadata": {},
   "outputs": [
    {
     "name": "stdout",
     "output_type": "stream",
     "text": [
      "1  \n",
      "3  \n",
      "6  \n",
      "11  \n",
      "19  \n",
      "64  \n",
      "-3  \n",
      "96  \n",
      "40  \n"
     ]
    }
   ],
   "source": [
    "def prefixsum(arr,prefix):\n",
    "    prefix[0]=arr[0]\n",
    "    for i in range(1,n):\n",
    "        prefix[i]=prefix[i-1]+arr[i]\n",
    "        \n",
    "arr=[1,2,3,5,8,45,-67,99,-56]\n",
    "n=len(arr)\n",
    "prefix = [0 for i in range(n + 1)]\n",
    "prefixsum(arr,prefix)\n",
    "for i in range(n):\n",
    "    print(prefix[i],\" \")"
   ]
  },
  {
   "cell_type": "code",
   "execution_count": null,
   "id": "cf99947c",
   "metadata": {},
   "outputs": [],
   "source": []
  }
 ],
 "metadata": {
  "kernelspec": {
   "display_name": "Python 3 (ipykernel)",
   "language": "python",
   "name": "python3"
  },
  "language_info": {
   "codemirror_mode": {
    "name": "ipython",
    "version": 3
   },
   "file_extension": ".py",
   "mimetype": "text/x-python",
   "name": "python",
   "nbconvert_exporter": "python",
   "pygments_lexer": "ipython3",
   "version": "3.9.7"
  }
 },
 "nbformat": 4,
 "nbformat_minor": 5
}
