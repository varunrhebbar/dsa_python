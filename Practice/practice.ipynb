{
 "cells": [
  {
   "cell_type": "code",
   "execution_count": 8,
   "id": "ecbefcfd",
   "metadata": {},
   "outputs": [
    {
     "name": "stdout",
     "output_type": "stream",
     "text": [
      "29\n"
     ]
    }
   ],
   "source": [
    "#Add without + op\n",
    "def Add(x, y):   \n",
    "    if (y == 0):\n",
    "        return x\n",
    "    else:\n",
    "        return Add( x ^ y, (x & y) << 1)\n",
    "x=10\n",
    "y=19\n",
    "print(Add(x,y))"
   ]
  },
  {
   "cell_type": "code",
   "execution_count": 2,
   "id": "64125fcb",
   "metadata": {},
   "outputs": [
    {
     "data": {
      "text/plain": [
       "121"
      ]
     },
     "execution_count": 2,
     "metadata": {},
     "output_type": "execute_result"
    }
   ],
   "source": [
    "#Add without + op\n",
    "def add(x,y):\n",
    "    for i in range(1,y+1):\n",
    "        x+=1\n",
    "    return x\n",
    "x=10\n",
    "y=111\n",
    "add(x,y)"
   ]
  },
  {
   "cell_type": "code",
   "execution_count": 23,
   "id": "4ed12c99",
   "metadata": {},
   "outputs": [
    {
     "data": {
      "text/plain": [
       "[0, 1, 2, 5, 7, 7, 44, 88, 89]"
      ]
     },
     "execution_count": 23,
     "metadata": {},
     "output_type": "execute_result"
    }
   ],
   "source": [
    "#Merge 2 sorted arrays\n",
    "def merge(nums1,nums2):\n",
    "        nums3=nums1+nums2\n",
    "        nums3.sort()\n",
    "        return nums3\n",
    "        \n",
    "nums1=[1,2,7,89,0]\n",
    "nums2=[5,88,7,44]\n",
    "\n",
    "merge(nums1,nums2)"
   ]
  },
  {
   "cell_type": "code",
   "execution_count": 46,
   "id": "20fa8e45",
   "metadata": {},
   "outputs": [
    {
     "name": "stdout",
     "output_type": "stream",
     "text": [
      "pairs are 3 4\n"
     ]
    }
   ],
   "source": [
    "def paircheck(arr,x,n):\n",
    "    for i in range(0,n-1):\n",
    "        for j in range(i+1,n):\n",
    "            if arr[i]+arr[j]==x:\n",
    "                print(\"pairs are\",arr[i],arr[j])\n",
    "                return True\n",
    "            else:\n",
    "                print(\"No pairs\")  \n",
    "    return 0 \n",
    "arr=[3,4,7,6,2,8] \n",
    "paircheck(arr,x,n)\n",
    "x=7                                            "
   ]
  },
  {
   "cell_type": "code",
   "execution_count": 71,
   "id": "aa1bbe31",
   "metadata": {},
   "outputs": [
    {
     "name": "stdout",
     "output_type": "stream",
     "text": [
      "None\n",
      "6 4 3 2 1 18 9 78 "
     ]
    }
   ],
   "source": [
    "#Reverse an array with k value\n",
    "def reversek(arr,k):\n",
    "    i = 0\n",
    "    while(i<n):\n",
    "        left=i\n",
    "        right=min(k-1+i,n-1);\n",
    "        while (left < right) :\n",
    "            arr[left],arr[right]=arr[right],arr[left];\n",
    "            left+=1\n",
    "            right-=1\n",
    "        i+=k   \n",
    "arr=[1,2,3,4,6,78,9,18]\n",
    "k=5\n",
    "n=len(arr)\n",
    "print(reversek(arr,k))\n",
    "for i in range(0, n):\n",
    "        print(arr[i], end =\" \")"
   ]
  },
  {
   "cell_type": "code",
   "execution_count": 89,
   "id": "6deeb52c",
   "metadata": {},
   "outputs": [
    {
     "name": "stdout",
     "output_type": "stream",
     "text": [
      "-1\n",
      "6\n",
      "11\n",
      "100\n"
     ]
    }
   ],
   "source": [
    "# Leaders in an array\n",
    "def leaders(arr,n):\n",
    "    rightmax=arr[n-1]\n",
    "    print(rightmax)\n",
    "    for i in range(n-2,-1,-1):\n",
    "        if rightmax<arr[i]:\n",
    "            print(arr[i])\n",
    "            rightmax=arr[i]\n",
    "arr=[100,2,5,8,11,6,-1]\n",
    "leaders(arr, len(arr))                "
   ]
  },
  {
   "cell_type": "code",
   "execution_count": 49,
   "id": "647b65d7",
   "metadata": {},
   "outputs": [
    {
     "data": {
      "text/plain": [
       "85"
      ]
     },
     "execution_count": 49,
     "metadata": {},
     "output_type": "execute_result"
    }
   ],
   "source": [
    "def maxsum(arr,k):\n",
    "    max_sum=0\n",
    "    for i in range(n+1-k):\n",
    "        current_sum=0\n",
    "        for j in range(k):\n",
    "            current_sum=current_sum+arr[i+j]\n",
    "            max_sum=max(max_sum,current_sum)\n",
    "    return max_sum\n",
    "arr=[1,2,3,5,8,45,-67,99,-56]\n",
    "n=len(arr)\n",
    "k=n-5\n",
    "maxsum(arr,k)"
   ]
  },
  {
   "cell_type": "code",
   "execution_count": 48,
   "id": "52426ad4",
   "metadata": {},
   "outputs": [
    {
     "data": {
      "text/plain": [
       "85"
      ]
     },
     "execution_count": 48,
     "metadata": {},
     "output_type": "execute_result"
    }
   ],
   "source": [
    "# MAXSUM of K\n",
    "def maxum(arr,k):\n",
    "    if n<k:\n",
    "        print(\"Invalid\")\n",
    "        return -1\n",
    "    wsum=sum(arr[:k])\n",
    "    msum=wsum\n",
    "    for i in range(n-k):\n",
    "        wsum=wsum+arr[k+i]-arr[i]\n",
    "        msum=max(wsum,msum)\n",
    "    return msum\n",
    "\n",
    "arr=[1,2,3,5,8,45,-67,99,-56]\n",
    "n=len(arr)\n",
    "k=n-5\n",
    "maxum(arr,k)"
   ]
  },
  {
   "cell_type": "code",
   "execution_count": 79,
   "id": "a1bc10b5",
   "metadata": {},
   "outputs": [
    {
     "name": "stdout",
     "output_type": "stream",
     "text": [
      "1  \n",
      "3  \n",
      "6  \n",
      "11  \n",
      "19  \n",
      "64  \n",
      "-3  \n",
      "96  \n",
      "40  \n"
     ]
    }
   ],
   "source": [
    "# prefix sumarray\n",
    "def prefixsum(arr,prefix):\n",
    "    prefix[0]=arr[0]\n",
    "    for i in range(1,n):\n",
    "        prefix[i]=prefix[i-1]+arr[i]\n",
    "        \n",
    "arr=[1,2,3,5,8,45,-67,99,-56]\n",
    "n=len(arr)\n",
    "prefix = [0 for i in range(n + 1)]\n",
    "prefixsum(arr,prefix)\n",
    "for i in range(n):\n",
    "    print(prefix[i],\" \")"
   ]
  },
  {
   "cell_type": "code",
   "execution_count": 89,
   "id": "cd551314",
   "metadata": {},
   "outputs": [
    {
     "name": "stdout",
     "output_type": "stream",
     "text": [
      "[1, 3, 6, 10, 15, 21, 28, 36]\n"
     ]
    }
   ],
   "source": [
    "# sumarray\n",
    "def sumarray(arr):\n",
    "    res=[arr[0]]\n",
    "    for i in range(1,n):\n",
    "        arr[i ] += arr[i-1]\n",
    "        res.append(arr[i])\n",
    "    return res\n",
    "arr=[1,2,3,4,5,6,7,8]\n",
    "n=len(arr)\n",
    "print(sumarray(arr))"
   ]
  },
  {
   "cell_type": "code",
   "execution_count": 111,
   "id": "bfe3fbca",
   "metadata": {},
   "outputs": [
    {
     "name": "stdout",
     "output_type": "stream",
     "text": [
      "[3, 2, 1, 4, 5, 6, 7, 8]\n"
     ]
    }
   ],
   "source": [
    "# random array\n",
    "from random import randint\n",
    "def random(arr):\n",
    "    for i in range(0,n):\n",
    "        j=randint(0,n)\n",
    "        arr[i],arr[j]=arr[j],arr[i]\n",
    "        return arr\n",
    "arr=[1,2,3,4,5,6,7,8]\n",
    "print(random(arr))\n"
   ]
  },
  {
   "cell_type": "code",
   "execution_count": 128,
   "id": "c48262e3",
   "metadata": {},
   "outputs": [
    {
     "name": "stdout",
     "output_type": "stream",
     "text": [
      "5\n",
      "1 \n",
      "1 1 \n",
      "1 2 1 \n",
      "1 3 3 1 \n",
      "1 4 6 4 1 \n"
     ]
    }
   ],
   "source": [
    "#pascals triangle\n",
    "def pascals(n):\n",
    "    for line in range(1,n+1):\n",
    "        c=1\n",
    "        for i in range(1,line+1):\n",
    "            print(c,end=\" \")\n",
    "            c=int(c*(line-i)/i)\n",
    "        print(\"\")\n",
    "n=int(input())\n",
    "pascals(n)"
   ]
  },
  {
   "cell_type": "code",
   "execution_count": 132,
   "id": "493cbcbd",
   "metadata": {},
   "outputs": [
    {
     "data": {
      "text/plain": [
       "5"
      ]
     },
     "execution_count": 132,
     "metadata": {},
     "output_type": "execute_result"
    }
   ],
   "source": [
    "# Missing Number\n",
    "def missing(arr):\n",
    "    n=len(arr)\n",
    "    total=(n+1)*(n+2)/2\n",
    "    arrsum=sum(arr)\n",
    "    return int(total-arrsum)\n",
    "arr=[1,2,3,4,6,7,8]\n",
    "missing(arr)  "
   ]
  },
  {
   "cell_type": "code",
   "execution_count": 18,
   "id": "666ecef2",
   "metadata": {},
   "outputs": [
    {
     "data": {
      "text/plain": [
       "[False, False, True, True, True, True]"
      ]
     },
     "execution_count": 18,
     "metadata": {},
     "output_type": "execute_result"
    }
   ],
   "source": [
    "# Kids with greatest number of candies\n",
    "def kidscandies(candies,extracandies):\n",
    "    list=[]\n",
    "    res=max(candies)\n",
    "    for i in range(len(candies)):\n",
    "        if candies[i] + extracandies >= res:\n",
    "            list.append(True)\n",
    "        else:\n",
    "            list.append(False)\n",
    "    return list\n",
    "candies=[1,2,3,5,6,8] \n",
    "extracandies=5\n",
    "kidscandies(candies,extracandies)"
   ]
  },
  {
   "cell_type": "code",
   "execution_count": 24,
   "id": "2d980107",
   "metadata": {},
   "outputs": [
    {
     "name": "stdout",
     "output_type": "stream",
     "text": [
      "[1, 2, 3, 6, 5, 5, 0, 0, 0, 0, 0, 0, 0, 0]\n"
     ]
    }
   ],
   "source": [
    "arr = [1, 2, 0, 0, 0, 3, 6,5,5,0,0,0,0,0]\n",
    "temp = []\n",
    "zeros = []\n",
    "for i in range(len(arr)):\n",
    "    if arr[i] !=0:\n",
    "        temp.append(arr[i])\n",
    "    else:\n",
    "        zeros.append(arr[i])\n",
    "\n",
    "print(temp+zeros)"
   ]
  },
  {
   "cell_type": "code",
   "execution_count": 66,
   "id": "a2f67810",
   "metadata": {},
   "outputs": [
    {
     "name": "stdout",
     "output_type": "stream",
     "text": [
      "[1, 4, 9, 16, 25, 361]\n",
      "None\n"
     ]
    }
   ],
   "source": [
    "def square(arr):\n",
    "    for i in range(len(arr)):\n",
    "        arr[i]=arr[i]**2\n",
    "    arr.sort()\n",
    "    print(arr)\n",
    "arr=[5,4,3,2,1,-19]\n",
    "print(square(arr))"
   ]
  },
  {
   "cell_type": "code",
   "execution_count": 80,
   "id": "94741b7b",
   "metadata": {},
   "outputs": [
    {
     "data": {
      "text/plain": [
       "[5, 4, 3, 2, 1, 0]"
      ]
     },
     "execution_count": 80,
     "metadata": {},
     "output_type": "execute_result"
    }
   ],
   "source": [
    "# smaller than the current number\n",
    "def smaller(arr):\n",
    "    res=[]\n",
    "    count=0\n",
    "    for i in arr:\n",
    "        for j in range(len(arr)):\n",
    "            if (arr[j]-i)< 0:\n",
    "                count+=1\n",
    "        res.append(count)\n",
    "        count=0\n",
    "    return res\n",
    "arr=[5,4,3,2,1,-19]\n",
    "smaller(arr)"
   ]
  },
  {
   "cell_type": "code",
   "execution_count": null,
   "id": "618bb0d1",
   "metadata": {},
   "outputs": [],
   "source": []
  }
 ],
 "metadata": {
  "kernelspec": {
   "display_name": "Python 3 (ipykernel)",
   "language": "python",
   "name": "python3"
  },
  "language_info": {
   "codemirror_mode": {
    "name": "ipython",
    "version": 3
   },
   "file_extension": ".py",
   "mimetype": "text/x-python",
   "name": "python",
   "nbconvert_exporter": "python",
   "pygments_lexer": "ipython3",
   "version": "3.9.7"
  }
 },
 "nbformat": 4,
 "nbformat_minor": 5
}
