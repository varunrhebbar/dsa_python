{
 "cells": [
  {
   "cell_type": "code",
   "execution_count": 4,
   "id": "ce6cced4",
   "metadata": {},
   "outputs": [
    {
     "name": "stdout",
     "output_type": "stream",
     "text": [
      "['a', 'b', 'c']\n",
      "Elements popped from stack:\n",
      "c\n",
      "b\n",
      "current stack elements ['a']\n"
     ]
    }
   ],
   "source": [
    "stack = []\n",
    "\n",
    "stack.append('a')\n",
    "stack.append('b')\n",
    "stack.append('c')\n",
    "print(stack)\n",
    "\n",
    "print('Elements popped from stack:')\n",
    "print(stack.pop())\n",
    "print(stack.pop())\n",
    "\n",
    "print(\"current stack elements\",stack)"
   ]
  },
  {
   "cell_type": "code",
   "execution_count": 5,
   "id": "8aa1b1f3",
   "metadata": {},
   "outputs": [
    {
     "name": "stdout",
     "output_type": "stream",
     "text": [
      "deque(['x', 'y', 'z'])\n",
      "z\n",
      "y\n",
      "current stack elements deque(['x'])\n"
     ]
    }
   ],
   "source": [
    "from collections import deque\n",
    " \n",
    "stack = deque()\n",
    "\n",
    "stack.append('x')\n",
    "stack.append('y')\n",
    "stack.append('z')\n",
    "\n",
    "print(stack)\n",
    "\n",
    "print(stack.pop())\n",
    "print(stack.pop())\n",
    "\n",
    "print(\"current stack elements\",stack)"
   ]
  },
  {
   "cell_type": "code",
   "execution_count": 7,
   "id": "06db26e4",
   "metadata": {},
   "outputs": [
    {
     "name": "stdout",
     "output_type": "stream",
     "text": [
      "7\n",
      "6\n",
      "5\n",
      "4\n",
      "3\n",
      "2\n",
      "1\n",
      "7 6 5 3 2 1 "
     ]
    }
   ],
   "source": [
    "class Stack:\n",
    "    \n",
    "    def __init__(self):\n",
    "        self.items = []\n",
    "      \n",
    "    def isEmpty(self):\n",
    "        return self.items == []\n",
    "      \n",
    "    def push(self, item):\n",
    "        self.items.append(item)\n",
    "      \n",
    "    def pop(self):\n",
    "        return self.items.pop()\n",
    "      \n",
    "    def peek(self):\n",
    "        return self.items[len(self.items)-1]\n",
    "      \n",
    "    def size(self):\n",
    "        return len(self.items)\n",
    "      \n",
    "        \n",
    "def deletemid(stacks, n, current) :\n",
    "    if (stacks.isEmpty()):\n",
    "        return\n",
    "    x = stacks.peek()\n",
    "    print(x)\n",
    "    stacks.pop()\n",
    "    deletemid(stacks, n, current+1)\n",
    "    if (current != int(n/2)) :\n",
    "        stacks.push(x)\n",
    "stacks = Stack()\n",
    "\n",
    "stacks.push('1')\n",
    "stacks.push('2')\n",
    "stacks.push('3')\n",
    "stacks.push('4')\n",
    "stacks.push('5')\n",
    "stacks.push('6')\n",
    "stacks.push('7')\n",
    "  \n",
    "deletemid(stacks, stacks.size(), 0)\n",
    "\n",
    "while (stacks.isEmpty() == False) :\n",
    "    p = stacks.peek()\n",
    "    stacks.pop()\n",
    "    print (str(p) + \" \", end=\"\")"
   ]
  },
  {
   "cell_type": "code",
   "execution_count": 20,
   "id": "19366302",
   "metadata": {},
   "outputs": [
    {
     "name": "stdout",
     "output_type": "stream",
     "text": [
      "{}{}{}[]()\n",
      "Balanced\n"
     ]
    }
   ],
   "source": [
    "# Balanced brackets\n",
    "def balancebracket(exprsn):\n",
    "    stack=[]\n",
    "    for char in exprsn:\n",
    "        if char in [\"(\" , \"{\" , \"[\"]:\n",
    "            stack.append(char)\n",
    "        else:\n",
    "            if not stack:\n",
    "                return False\n",
    "            current_char = stack.pop()\n",
    "            if current_char == '(':\n",
    "                if char != \")\":\n",
    "                    return False\n",
    "            if current_char == '{':\n",
    "                if char != \"}\":\n",
    "                    return False\n",
    "            if current_char == '[':\n",
    "                if char != \"]\":\n",
    "                    return False\n",
    "    if stack:\n",
    "        return False\n",
    "    return True\n",
    "exprsn = input()\n",
    "if balancebracket(exprsn):\n",
    "    print(\"Balanced\")\n",
    "else:\n",
    "    print(\"Not Balanced\")             "
   ]
  },
  {
   "cell_type": "code",
   "execution_count": 32,
   "id": "61a58135",
   "metadata": {},
   "outputs": [
    {
     "name": "stdout",
     "output_type": "stream",
     "text": [
      "Reversed string is  rabbehrnuraV\n"
     ]
    }
   ],
   "source": [
    "def createStack():\n",
    "    stack=[]\n",
    "    return stack\n",
    "\n",
    "def size(stack):\n",
    "    return len(stack)\n",
    " \n",
    "def isEmpty(stack):\n",
    "    if size(stack) == 0:\n",
    "        return true\n",
    "\n",
    "def push(stack,item):\n",
    "    stack.append(item)\n",
    "\n",
    "def pop(stack):\n",
    "    if isEmpty(stack): return\n",
    "    return stack.pop()\n",
    " \n",
    "def reverse(string):\n",
    "    stack = createStack()\n",
    " \n",
    "    for i in range(len(string)):\n",
    "        push(stack,string[i])\n",
    "\n",
    "    string=\"\"\n",
    "    for i in range(len(string)):\n",
    "        string+=pop(stack)\n",
    "         \n",
    "    return string\n",
    "string=\"Varunrhebbar\"\n",
    "string = reverse(string)\n",
    "print(\"Reversed string is \",string)"
   ]
  },
  {
   "cell_type": "code",
   "execution_count": null,
   "id": "c593ee60",
   "metadata": {},
   "outputs": [],
   "source": []
  }
 ],
 "metadata": {
  "kernelspec": {
   "display_name": "Python 3 (ipykernel)",
   "language": "python",
   "name": "python3"
  },
  "language_info": {
   "codemirror_mode": {
    "name": "ipython",
    "version": 3
   },
   "file_extension": ".py",
   "mimetype": "text/x-python",
   "name": "python",
   "nbconvert_exporter": "python",
   "pygments_lexer": "ipython3",
   "version": "3.9.7"
  }
 },
 "nbformat": 4,
 "nbformat_minor": 5
}
