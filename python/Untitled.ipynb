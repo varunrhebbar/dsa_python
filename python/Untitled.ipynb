{
 "cells": [
  {
   "cell_type": "code",
   "execution_count": 22,
   "id": "56bafe5e",
   "metadata": {},
   "outputs": [
    {
     "name": "stdout",
     "output_type": "stream",
     "text": [
      "3\n",
      "var\n",
      "45\n",
      "siii\n",
      "56\n",
      "rrr\n",
      "22\n",
      "var\n"
     ]
    }
   ],
   "source": [
    "Result =[]\n",
    "scorelist = []\n",
    "if __name__=='__main__':\n",
    "    for _ in range(int(input())):\n",
    "        name = input()\n",
    "        score = float(input())\n",
    "        Result+=[[name,score]]\n",
    "        scorelist+=[score]\n",
    "    b=sorted(list(set(scorelist)))[1] \n",
    "\n",
    "    for a,c in sorted(Result):\n",
    "        if c==b:\n",
    "            print(a)"
   ]
  },
  {
   "cell_type": "code",
   "execution_count": 29,
   "id": "f2008d1c",
   "metadata": {},
   "outputs": [
    {
     "name": "stdout",
     "output_type": "stream",
     "text": [
      "1\n",
      "eff 556 666 67\n",
      "eff\n",
      "429.67\n"
     ]
    }
   ],
   "source": [
    "n = int(input())\n",
    "student_marks = {}\n",
    "for _ in range(n):\n",
    "    name, *line = input().split()\n",
    "    scores = list(map(float, line))\n",
    "    student_marks[name] = scores\n",
    "query_name = input()\n",
    "output = list(student_marks[query_name])    \n",
    "per = sum(output)/len(output);\n",
    "print(\"%.2f\" % per);"
   ]
  },
  {
   "cell_type": "code",
   "execution_count": 37,
   "id": "9be71593",
   "metadata": {},
   "outputs": [
    {
     "name": "stdout",
     "output_type": "stream",
     "text": [
      "3\n",
      "append 3\n",
      "append 4\n",
      "print\n",
      "[3, 4]\n"
     ]
    }
   ],
   "source": [
    "n = int(input())\n",
    "lst=[];\n",
    "\n",
    "for i in range(0,n):\n",
    "    cmd=input().split();\n",
    "    if cmd[0] == \"insert\":\n",
    "        lst.insert (int(cmd[1]),int(cmd[2]))\n",
    "    elif cmd[0] == \"append\":\n",
    "        lst.append(int(cmd[1]))\n",
    "    elif cmd[0] == \"pop\":\n",
    "        lst.pop();\n",
    "    elif cmd[0] == \"print\":\n",
    "        print(lst)\n",
    "    elif cmd[0] == \"remove\":\n",
    "        lst.remove(int(cmd[1]))\n",
    "    elif cmd[0] == \"sort\":\n",
    "        lst.sort();\n",
    "    else:\n",
    "        lst.reverse();"
   ]
  },
  {
   "cell_type": "markdown",
   "id": "eaa17c84",
   "metadata": {},
   "source": []
  },
  {
   "cell_type": "code",
   "execution_count": 45,
   "id": "887b4501",
   "metadata": {},
   "outputs": [
    {
     "name": "stdout",
     "output_type": "stream",
     "text": [
      "10\n",
      "2\n"
     ]
    },
    {
     "ename": "TypeError",
     "evalue": "'tuple' object is not callable",
     "output_type": "error",
     "traceback": [
      "\u001b[1;31m---------------------------------------------------------------------------\u001b[0m",
      "\u001b[1;31mTypeError\u001b[0m                                 Traceback (most recent call last)",
      "\u001b[1;32m~\\AppData\\Local\\Temp/ipykernel_17036/3767532971.py\u001b[0m in \u001b[0;36m<module>\u001b[1;34m\u001b[0m\n\u001b[0;32m      1\u001b[0m \u001b[0mn\u001b[0m\u001b[1;33m=\u001b[0m\u001b[0mint\u001b[0m\u001b[1;33m(\u001b[0m\u001b[0minput\u001b[0m\u001b[1;33m(\u001b[0m\u001b[1;33m)\u001b[0m\u001b[1;33m)\u001b[0m\u001b[1;33m\u001b[0m\u001b[1;33m\u001b[0m\u001b[0m\n\u001b[0;32m      2\u001b[0m \u001b[0mtuple\u001b[0m\u001b[1;33m=\u001b[0m\u001b[0mint\u001b[0m\u001b[1;33m,\u001b[0m\u001b[0minput\u001b[0m\u001b[1;33m(\u001b[0m\u001b[1;33m)\u001b[0m\u001b[1;33m.\u001b[0m\u001b[0msplit\u001b[0m\u001b[1;33m(\u001b[0m\u001b[1;33m)\u001b[0m\u001b[1;33m\u001b[0m\u001b[1;33m\u001b[0m\u001b[0m\n\u001b[1;32m----> 3\u001b[1;33m \u001b[0mprint\u001b[0m\u001b[1;33m(\u001b[0m\u001b[0mhash\u001b[0m\u001b[1;33m(\u001b[0m\u001b[0mlist\u001b[0m\u001b[1;33m(\u001b[0m\u001b[0mn\u001b[0m\u001b[1;33m)\u001b[0m\u001b[1;33m)\u001b[0m\u001b[1;33m)\u001b[0m\u001b[1;33m\u001b[0m\u001b[1;33m\u001b[0m\u001b[0m\n\u001b[0m",
      "\u001b[1;31mTypeError\u001b[0m: 'tuple' object is not callable"
     ]
    }
   ],
   "source": [
    "n=int(input())\n",
    "tuple=int,input().split()\n",
    "print(hash(list(n)))"
   ]
  },
  {
   "cell_type": "code",
   "execution_count": 54,
   "id": "cd4b7e9f",
   "metadata": {},
   "outputs": [
    {
     "name": "stdout",
     "output_type": "stream",
     "text": [
      "vARUN IS IN 4tH StANdARD\n"
     ]
    }
   ],
   "source": [
    "def swap_case(str):\n",
    "    res=\"\"\n",
    "    for a in str:\n",
    "        if a.isupper()!=True:\n",
    "            res+=(a.upper())\n",
    "        else:\n",
    "            res+=(a.lower())\n",
    "    return res\n",
    "str=\"Varun is in 4Th sTanDard\"\n",
    "print(swap_case(str))"
   ]
  },
  {
   "cell_type": "code",
   "execution_count": 71,
   "id": "600bab2c",
   "metadata": {},
   "outputs": [
    {
     "name": "stdout",
     "output_type": "stream",
     "text": [
      "varun--is--a--guy--in--BE\n"
     ]
    }
   ],
   "source": [
    "def split(str):\n",
    "    str=str.split()\n",
    "    str=\"--\".join(str)\n",
    "    return str \n",
    "str=\"varun is a guy in BE\"\n",
    "print(split(str))"
   ]
  },
  {
   "cell_type": "code",
   "execution_count": null,
   "id": "40855080",
   "metadata": {},
   "outputs": [
    {
     "name": "stdout",
     "output_type": "stream",
     "text": [
      "varunrhebbar\n"
     ]
    }
   ],
   "source": [
    "def mutation(str, pos, c):\n",
    "    n = list(string)\n",
    "    n[pos] = character\n",
    "    string = \"\".join(n)\n",
    "    return str\n",
    "str = input()\n",
    "c = input().split()\n",
    "print(mutation(str, pos, c))"
   ]
  },
  {
   "cell_type": "code",
   "execution_count": null,
   "id": "30aeeff9",
   "metadata": {},
   "outputs": [],
   "source": []
  }
 ],
 "metadata": {
  "kernelspec": {
   "display_name": "Python 3 (ipykernel)",
   "language": "python",
   "name": "python3"
  },
  "language_info": {
   "codemirror_mode": {
    "name": "ipython",
    "version": 3
   },
   "file_extension": ".py",
   "mimetype": "text/x-python",
   "name": "python",
   "nbconvert_exporter": "python",
   "pygments_lexer": "ipython3",
   "version": "3.9.7"
  }
 },
 "nbformat": 4,
 "nbformat_minor": 5
}
