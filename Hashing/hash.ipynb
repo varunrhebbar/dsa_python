{
 "cells": [
  {
   "cell_type": "code",
   "execution_count": 2,
   "id": "6b323031",
   "metadata": {},
   "outputs": [
    {
     "data": {
      "text/plain": [
       "6"
      ]
     },
     "execution_count": 2,
     "metadata": {},
     "output_type": "execute_result"
    }
   ],
   "source": [
    "def gethash(key):\n",
    "    h=0\n",
    "    for char in key:\n",
    "        h+=ord(char)\n",
    "    return h%10\n",
    "gethash('varun')"
   ]
  },
  {
   "cell_type": "code",
   "execution_count": 77,
   "id": "09a3b98e",
   "metadata": {},
   "outputs": [],
   "source": [
    "class Hashtable:\n",
    "    def __init__(self):\n",
    "        self.arr=[None for i in range(100)]\n",
    "    def gethash(key):\n",
    "        h=0\n",
    "        for char in key:\n",
    "            h+=ord(char)\n",
    "        return h%100\n",
    "        t=Hashtable()\n",
    "        t.gethash('varun',130)"
   ]
  },
  {
   "cell_type": "code",
   "execution_count": 5,
   "id": "cd831f79",
   "metadata": {},
   "outputs": [
    {
     "name": "stdout",
     "output_type": "stream",
     "text": [
      "{'varun': '121', 'qwerty': '1345'}\n"
     ]
    }
   ],
   "source": [
    "new_dict=dict(varun='121',qwerty='1345')\n",
    "type(new_dict)\n",
    "print(new_dict)"
   ]
  },
  {
   "cell_type": "code",
   "execution_count": 32,
   "id": "7d0b9fbe",
   "metadata": {},
   "outputs": [
    {
     "name": "stdout",
     "output_type": "stream",
     "text": [
      "{'Employee': {'varun': {'id': '100', 'salary': '40k', 'post': 'Trainee'}, 'vaish': {'id': '233', 'salary': '42k', 'post': 'engineer'}}}\n"
     ]
    }
   ],
   "source": [
    "employee_details={'Employee':{'varun':{'id':'100','salary':'40k','post':'Trainee'},\n",
    "                              'vaish':{'id':'233','salary':'42k','post':'engineer'}}}\n",
    "print(employee_details)"
   ]
  },
  {
   "cell_type": "code",
   "execution_count": 35,
   "id": "913418a4",
   "metadata": {
    "scrolled": true
   },
   "outputs": [
    {
     "name": "stdout",
     "output_type": "stream",
     "text": [
      "['varun']\n"
     ]
    }
   ],
   "source": [
    "employee_details={'Employee':{'varun':{'id':'100','salary':'40k','post':'Trainee'},\n",
    "                              'vaish':{'id':'233','salary':'42k','post':'engineer'}}}\n",
    "employee_details=['varun']\n",
    "print(employee_details)"
   ]
  },
  {
   "cell_type": "code",
   "execution_count": 44,
   "id": "dbdb5187",
   "metadata": {},
   "outputs": [
    {
     "data": {
      "text/plain": [
       "'121'"
      ]
     },
     "execution_count": 44,
     "metadata": {},
     "output_type": "execute_result"
    }
   ],
   "source": [
    "new_dict=dict(varun='121',qwerty='1345',asdf='1344')\n",
    "new_dict['varun']"
   ]
  },
  {
   "cell_type": "code",
   "execution_count": 45,
   "id": "73dedd48",
   "metadata": {},
   "outputs": [
    {
     "name": "stdout",
     "output_type": "stream",
     "text": [
      "dict_keys(['varun', 'qwerty', 'asdf'])\n"
     ]
    }
   ],
   "source": [
    "print(new_dict.keys())"
   ]
  },
  {
   "cell_type": "code",
   "execution_count": 46,
   "id": "cc255193",
   "metadata": {},
   "outputs": [
    {
     "name": "stdout",
     "output_type": "stream",
     "text": [
      "dict_values(['121', '1345', '1344'])\n"
     ]
    }
   ],
   "source": [
    "print(new_dict.values())"
   ]
  },
  {
   "cell_type": "code",
   "execution_count": 47,
   "id": "94ac9d35",
   "metadata": {},
   "outputs": [
    {
     "name": "stdout",
     "output_type": "stream",
     "text": [
      "1344\n"
     ]
    }
   ],
   "source": [
    "print(new_dict.get('asdf'))"
   ]
  },
  {
   "cell_type": "code",
   "execution_count": 49,
   "id": "ed5fe34c",
   "metadata": {},
   "outputs": [
    {
     "name": "stdout",
     "output_type": "stream",
     "text": [
      "121\n",
      "1345\n",
      "1344\n"
     ]
    }
   ],
   "source": [
    "for i in new_dict.values():\n",
    "    print(i)"
   ]
  },
  {
   "cell_type": "code",
   "execution_count": 51,
   "id": "9ec05249",
   "metadata": {},
   "outputs": [
    {
     "name": "stdout",
     "output_type": "stream",
     "text": [
      "varun 121\n",
      "qwerty 1345\n",
      "asdf 1344\n"
     ]
    }
   ],
   "source": [
    "for x,y in new_dict.items():\n",
    "    print(x,y)"
   ]
  },
  {
   "cell_type": "code",
   "execution_count": 53,
   "id": "099932ab",
   "metadata": {},
   "outputs": [
    {
     "name": "stdout",
     "output_type": "stream",
     "text": [
      "varun 1234\n",
      "qwerty 1345\n",
      "asdf 1344\n",
      "zxcv 9876\n"
     ]
    }
   ],
   "source": [
    "#updating\n",
    "new_dict['varun']=1234\n",
    "new_dict['zxcv']=9876\n",
    "for x,y in new_dict.items():\n",
    "    print(x,y)"
   ]
  },
  {
   "cell_type": "code",
   "execution_count": 64,
   "id": "8bc6e1c0",
   "metadata": {},
   "outputs": [
    {
     "name": "stdout",
     "output_type": "stream",
     "text": [
      "{'varun': 1234, 'qwerty': '1345', 'zxcv': 9876}\n"
     ]
    }
   ],
   "source": [
    "# dELETING\n",
    "new_dict=dict(varun='121',qwerty='1345',asdf='1344')\n",
    "new_dict['varun']=1234\n",
    "new_dict['zxcv']=9876\n",
    "new_dict.pop('asdf')\n",
    "print(new_dict)"
   ]
  },
  {
   "cell_type": "code",
   "execution_count": 76,
   "id": "252f5189",
   "metadata": {},
   "outputs": [
    {
     "data": {
      "text/plain": [
       "('zxcv', 9876)"
      ]
     },
     "execution_count": 76,
     "metadata": {},
     "output_type": "execute_result"
    }
   ],
   "source": [
    "new_dict=dict(varun='121',qwerty='1345',asdf='1344')\n",
    "new_dict['varun']=1234\n",
    "new_dict['zxcv']=9876\n",
    "new_dict.popitem()\n"
   ]
  },
  {
   "cell_type": "code",
   "execution_count": 152,
   "id": "9190047d",
   "metadata": {},
   "outputs": [],
   "source": [
    "class HashTable:\n",
    "    def __init__(self):\n",
    "        self.arr=[None for i in range(10)]\n",
    "        \n",
    "    def get_hash(key):\n",
    "        h=0\n",
    "        for char in key:\n",
    "            h+=ord(char)\n",
    "        return h % 10\n",
    "    \n",
    "    def setitem(self,key,value):\n",
    "        h=self.get_hash(key)\n",
    "        self.arr[h]=value\n",
    "    \n",
    "    def getitem(self,key):\n",
    "        h=self.get_hash(key)\n",
    "        return self.arr[h]\n",
    "    t=HashTable()\n",
    "    t.arr\n"
   ]
  },
  {
   "cell_type": "code",
   "execution_count": 168,
   "id": "a5eac1c8",
   "metadata": {},
   "outputs": [
    {
     "name": "stdout",
     "output_type": "stream",
     "text": [
      "{'varun': 1234, 'qwerty': '1345', 'asdf': '1344', 'fvfeufuf': '2222', 'zxcv': 9876}\n"
     ]
    }
   ],
   "source": [
    "  def gethash(key,value):\n",
    "        h=0\n",
    "        for char in value:\n",
    "            h+=ord(value)\n",
    "        return h%4\n",
    "h=dict(varun='121',qwerty='1345',asdf='1344',fvfeufuf='2222')\n",
    "h['varun']=1234\n",
    "h['zxcv']=9876\n",
    "print(h)"
   ]
  },
  {
   "cell_type": "code",
   "execution_count": null,
   "id": "fe543d4b",
   "metadata": {},
   "outputs": [],
   "source": []
  },
  {
   "cell_type": "code",
   "execution_count": null,
   "id": "3e58c9a9",
   "metadata": {},
   "outputs": [],
   "source": []
  }
 ],
 "metadata": {
  "kernelspec": {
   "display_name": "Python 3 (ipykernel)",
   "language": "python",
   "name": "python3"
  },
  "language_info": {
   "codemirror_mode": {
    "name": "ipython",
    "version": 3
   },
   "file_extension": ".py",
   "mimetype": "text/x-python",
   "name": "python",
   "nbconvert_exporter": "python",
   "pygments_lexer": "ipython3",
   "version": "3.9.7"
  }
 },
 "nbformat": 4,
 "nbformat_minor": 5
}
