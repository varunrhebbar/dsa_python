{
 "cells": [
  {
   "cell_type": "code",
   "execution_count": 20,
   "id": "ba8dd676",
   "metadata": {},
   "outputs": [
    {
     "name": "stdout",
     "output_type": "stream",
     "text": [
      "subset\n"
     ]
    }
   ],
   "source": [
    "# array subset of another array\n",
    "def issubset(arr1,arr2):\n",
    "    hashset=set()\n",
    "    for i in range(0,len(arr1)):\n",
    "        hashset.add(arr1[i])\n",
    "        for j in range(0,len(arr2)):\n",
    "            if arr2[j] in hashset:\n",
    "                return True\n",
    "            else:\n",
    "                return False \n",
    "arr1=[1,2,3,4,5,7,8]\n",
    "arr2=[1,2,3,4]\n",
    "if (issubset(arr1,arr2)):\n",
    "    print(\"subset\")\n",
    "else:\n",
    "    print(\"not a subset\")"
   ]
  },
  {
   "cell_type": "code",
   "execution_count": 39,
   "id": "0db5d9f9",
   "metadata": {},
   "outputs": [
    {
     "name": "stdout",
     "output_type": "stream",
     "text": [
      "Pair with given sum 16   ,  6 10 at indices 3 4\n",
      "\n"
     ]
    }
   ],
   "source": [
    "def printPairs(arr,sum):\n",
    "    hashmap = {}\n",
    "     \n",
    "    for i in range(0, len(arr)):\n",
    "        temp = sum-arr[i]\n",
    "        if (temp in hashmap):\n",
    "            print (\"Pair with given sum\",sum,\"  , \",temp,arr[i],\"at indices\",hashmap[temp],i)  \n",
    "            print()\n",
    "        hashmap[arr[i]] = i\n",
    " \n",
    "arr = [1, 4, 45, 6, 10, 8]\n",
    "sum= 16\n",
    "printPairs(arr, sum)"
   ]
  },
  {
   "cell_type": "code",
   "execution_count": null,
   "id": "e4294da0",
   "metadata": {},
   "outputs": [],
   "source": []
  }
 ],
 "metadata": {
  "kernelspec": {
   "display_name": "Python 3 (ipykernel)",
   "language": "python",
   "name": "python3"
  },
  "language_info": {
   "codemirror_mode": {
    "name": "ipython",
    "version": 3
   },
   "file_extension": ".py",
   "mimetype": "text/x-python",
   "name": "python",
   "nbconvert_exporter": "python",
   "pygments_lexer": "ipython3",
   "version": "3.9.7"
  }
 },
 "nbformat": 4,
 "nbformat_minor": 5
}
