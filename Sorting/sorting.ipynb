{
 "cells": [
  {
   "cell_type": "code",
   "execution_count": 7,
   "id": "82c91969",
   "metadata": {},
   "outputs": [
    {
     "name": "stdout",
     "output_type": "stream",
     "text": [
      "1 2 3 4 5 "
     ]
    }
   ],
   "source": [
    "# SELECTION SORT\n",
    "import sys\n",
    "arr=[5,4,3,2,1]\n",
    "for i in range(len(arr)):\n",
    "    mini=i\n",
    "    for j in range(i+1,len(arr)):\n",
    "        if arr[mini]>arr[j]:\n",
    "            mini=j\n",
    "    arr[i],arr[mini]=arr[mini],arr[i]\n",
    "    \n",
    "for i in range(len(arr)):\n",
    "    print(arr[i],end=\" \")"
   ]
  },
  {
   "cell_type": "code",
   "execution_count": 11,
   "id": "73b4e225",
   "metadata": {},
   "outputs": [
    {
     "name": "stdout",
     "output_type": "stream",
     "text": [
      "22 50 56 60 89 "
     ]
    }
   ],
   "source": [
    "# BUBBLE SORT\n",
    "def bubble(arr):\n",
    "    for i in range(len(arr)):\n",
    "        for j in range(len(arr)-i-1):\n",
    "            if arr[j]>arr[j+1]:\n",
    "                arr[j],arr[j+1]=arr[j+1],arr[j]\n",
    "\n",
    "arr=[50,60,89,56,22]\n",
    "bubble(arr)\n",
    "for i in range(len(arr)):\n",
    "    print(arr[i],end=\" \")"
   ]
  },
  {
   "cell_type": "code",
   "execution_count": 13,
   "id": "00dea745",
   "metadata": {},
   "outputs": [
    {
     "name": "stdout",
     "output_type": "stream",
     "text": [
      "22 50 56 60 89 "
     ]
    }
   ],
   "source": [
    "# INSERTION SORT\n",
    "def insertion(arr):\n",
    "    for i in range(1,len(arr)):\n",
    "        key=arr[i]\n",
    "        j=i-1\n",
    "        while j>=0 and key<arr[j]:\n",
    "            arr[j+1]=arr[j]\n",
    "            j-=1\n",
    "        arr[j+1]=key\n",
    "        \n",
    "arr=[50,60,89,56,22]\n",
    "insertion(arr)\n",
    "for i in range(len(arr)):\n",
    "    print(arr[i],end=\" \")"
   ]
  },
  {
   "cell_type": "code",
   "execution_count": 22,
   "id": "c816beae",
   "metadata": {},
   "outputs": [
    {
     "name": "stdout",
     "output_type": "stream",
     "text": [
      "1 1 2 3 5 "
     ]
    }
   ],
   "source": [
    "#MERGE SORT\n",
    "def mergeSort(arr):\n",
    "    if len(arr) > 1:\n",
    "        mid = len(arr)//2\n",
    "        L = arr[:mid]\n",
    "        R = arr[mid:]\n",
    "        mergeSort(L)\n",
    "        mergeSort(R)\n",
    "        i = j = k = 0\n",
    "        while i < len(L) and j < len(R):\n",
    "            if L[i] < R[j]:\n",
    "                arr[k] = L[i]\n",
    "                i += 1\n",
    "            else:\n",
    "                arr[k] = R[j]\n",
    "                j += 1\n",
    "            k += 1\n",
    "        while i < len(L):\n",
    "            arr[k] = L[i]\n",
    "            i += 1\n",
    "            k += 1\n",
    "        while j < len(R):\n",
    "            arr[k] = R[j]\n",
    "            j += 1\n",
    "arr=[5,3,2,1,1]\n",
    "mergeSort(arr)\n",
    "for i in range(len(arr)):\n",
    "    print(arr[i],end=\" \")\n",
    "  "
   ]
  },
  {
   "cell_type": "code",
   "execution_count": null,
   "id": "ee04dc00",
   "metadata": {},
   "outputs": [],
   "source": [
    "# QUICK SORT\n"
   ]
  }
 ],
 "metadata": {
  "kernelspec": {
   "display_name": "Python 3 (ipykernel)",
   "language": "python",
   "name": "python3"
  },
  "language_info": {
   "codemirror_mode": {
    "name": "ipython",
    "version": 3
   },
   "file_extension": ".py",
   "mimetype": "text/x-python",
   "name": "python",
   "nbconvert_exporter": "python",
   "pygments_lexer": "ipython3",
   "version": "3.9.7"
  }
 },
 "nbformat": 4,
 "nbformat_minor": 5
}
