{
 "cells": [
  {
   "cell_type": "code",
   "execution_count": 4,
   "id": "fc9651e4",
   "metadata": {},
   "outputs": [
    {
     "name": "stdout",
     "output_type": "stream",
     "text": [
      "Revese array is\n",
      "[4, 3, 2, 1]\n"
     ]
    }
   ],
   "source": [
    "#Reverse an array\n",
    "def reverse_array(arr):\n",
    "    print(arr[::-1])\n",
    "arr=[1,2,3,4]\n",
    "print(\"Revese array is\")\n",
    "reverse_array(arr)"
   ]
  },
  {
   "cell_type": "code",
   "execution_count": 7,
   "id": "c8c7b5f5",
   "metadata": {},
   "outputs": [
    {
     "name": "stdout",
     "output_type": "stream",
     "text": [
      "max 44\n",
      "min -2\n"
     ]
    }
   ],
   "source": [
    "#maximun & minimum element in an array\n",
    "\n",
    "def findminmax(num):\n",
    "    max=min=num[0]\n",
    "    for i in range(1,len(num)):\n",
    "        if num[i]>max:\n",
    "            max=num[i]\n",
    "        elif num[i]<max:\n",
    "            min=num[i]\n",
    "    print(\"max\",max)\n",
    "    print(\"min\",min)\n",
    "if __name__ =='__main__':\n",
    "    num=[5,44,3,11,0,-2]\n",
    "    findminmax(num)\n",
    "        "
   ]
  },
  {
   "cell_type": "code",
   "execution_count": 12,
   "id": "20a605b4",
   "metadata": {},
   "outputs": [
    {
     "name": "stdout",
     "output_type": "stream",
     "text": [
      "Kth smallest term is 67\n"
     ]
    }
   ],
   "source": [
    "# Kth smallest term\n",
    "\n",
    "def kthsmallest(arr,n,k):\n",
    "    arr.sort()\n",
    "    return arr[k-1]\n",
    "if __name__=='__main__':\n",
    "    arr=[12,45,67,89,65,33]\n",
    "    n=len(arr)\n",
    "    k=5\n",
    "    print(\"Kth smallest term is\",kthsmallest(arr,n,k))"
   ]
  },
  {
   "cell_type": "code",
   "execution_count": 40,
   "id": "81bdc606",
   "metadata": {},
   "outputs": [
    {
     "name": "stdout",
     "output_type": "stream",
     "text": [
      "0 0 0 0 0 1 1 1 1 1 2 2 "
     ]
    }
   ],
   "source": [
    "#Sort an array of 0s, 1s and 2s\n",
    "def printarr(arr, n):\n",
    "    for i in range(n):\n",
    "        print(arr[i],end=\" \")\n",
    "\n",
    "def sortArr(arr, n):\n",
    "    cnt0 = 0\n",
    "    cnt1 = 0\n",
    "    cnt2 = 0\n",
    "\n",
    "    for i in range(n):\n",
    "        if arr[i] == 0:\n",
    "            cnt0+=1\n",
    "\n",
    "        elif arr[i] == 1:\n",
    "            cnt1+=1\n",
    "\n",
    "        elif arr[i] == 2:\n",
    "            cnt2+=1\n",
    "    i = 0\n",
    "    while (cnt0 > 0):\n",
    "        arr[i] = 0\n",
    "        i+=1\n",
    "        cnt0-=1\n",
    "    while (cnt1 > 0):\n",
    "        arr[i] = 1\n",
    "        i+=1\n",
    "        cnt1-=1\n",
    "    while (cnt2 > 0):\n",
    "        arr[i] = 2\n",
    "        i+=1\n",
    "        cnt2-=1\n",
    "    printarr(arr, n)\n",
    "arr = [0, 1, 1, 0, 1, 2, 1, 2, 0, 0, 0, 1]\n",
    "n = len(arr)\n",
    "\n",
    "sortArr(arr, n)\n"
   ]
  },
  {
   "cell_type": "code",
   "execution_count": 6,
   "id": "59da2bc5",
   "metadata": {},
   "outputs": [
    {
     "name": "stdout",
     "output_type": "stream",
     "text": [
      "5\n",
      "1\n",
      "2\n",
      "3\n",
      "4\n"
     ]
    }
   ],
   "source": [
    "#rotate an array by 1\n",
    "\n",
    "def rotate(arr,n):\n",
    "    x=arr[n-1]\n",
    "    for i in range(n-1,0,-1):\n",
    "        arr[i]=arr[i-1]\n",
    "    arr[0]=x\n",
    "arr= [1, 2, 3, 4, 5]\n",
    "n = len(arr)\n",
    "rotate(arr,n)\n",
    "for i in range(0,n):\n",
    "    print(arr[i])"
   ]
  },
  {
   "cell_type": "code",
   "execution_count": null,
   "id": "b259e628",
   "metadata": {},
   "outputs": [],
   "source": []
  },
  {
   "cell_type": "code",
   "execution_count": 7,
   "id": "cc4eba4c",
   "metadata": {},
   "outputs": [
    {
     "name": "stdout",
     "output_type": "stream",
     "text": [
      "Max sum 7\n"
     ]
    }
   ],
   "source": [
    "# Kadens algm\n",
    "\n",
    "def maxsubArraySum(a,size):\n",
    "    max_so_far =a[0]\n",
    "    curr_max = a[0]\n",
    "    \n",
    "    for i in range(1,size):\n",
    "        curr_max = max(a[i], curr_max + a[i])\n",
    "        max_so_far = max(max_so_far,curr_max)\n",
    "    return max_so_far\n",
    "a = [-2, -3, 4, -1, -2, 1, 5, -3]\n",
    "print(\"Max sum\" , maxsubArraySum(a,len(a)))"
   ]
  },
  {
   "cell_type": "code",
   "execution_count": 4,
   "id": "d8a73ca8",
   "metadata": {},
   "outputs": [
    {
     "name": "stdout",
     "output_type": "stream",
     "text": [
      "maxprod 60\n"
     ]
    }
   ],
   "source": [
    "# Maximum product subarray\n",
    "def maxprodsubarray(arr,n):\n",
    "    res=arr[0]\n",
    "    for i in range(n):\n",
    "        mul=arr[i]\n",
    "        for j in range(i+1,n):\n",
    "            result=max(res,mul)\n",
    "            mul*=arr[j]\n",
    "        result=max(result,mul)\n",
    "    return result\n",
    "arr=[1,2,3,4,6,-6,-10]\n",
    "n=len(arr)\n",
    "print(\"maxprod\",maxprodsubarray(arr,n))"
   ]
  },
  {
   "cell_type": "code",
   "execution_count": 22,
   "id": "6070a5c2",
   "metadata": {},
   "outputs": [
    {
     "name": "stdout",
     "output_type": "stream",
     "text": [
      " largest seq 7\n"
     ]
    }
   ],
   "source": [
    "# Largest sequece\n",
    "def largestseq(arr,n):\n",
    "    ans=0\n",
    "    count=0\n",
    "    arr.sort()\n",
    "    V=[]\n",
    "    V.append(arr[0])\n",
    "    for i in range(1,n):\n",
    "        if(arr[i]!=arr[i-1]):\n",
    "            V.append(arr[i])\n",
    "    for i in range(len(V)):\n",
    "        if (i>0 and V[i]==V[i-1]+1):\n",
    "            count+=1\n",
    "        else:\n",
    "            count=1\n",
    "        ans=max(ans,count)\n",
    "    return ans\n",
    "arr=[1,2,3,4,5,9,0,2,222,21,-1]\n",
    "n=len(arr)\n",
    "print(\" largest seq\",largestseq(arr,n))   "
   ]
  },
  {
   "cell_type": "code",
   "execution_count": 8,
   "id": "65c4221a",
   "metadata": {},
   "outputs": [
    {
     "name": "stdout",
     "output_type": "stream",
     "text": [
      "6\n"
     ]
    }
   ],
   "source": [
    "# Trappping rain water\n",
    "def maxWater(arr, n):\n",
    "    res = 0;\n",
    "    for i in range(1, n - 1):\n",
    "        left = arr[i]\n",
    "        for j in range(i):\n",
    "            left = max(left, arr[j])\n",
    "        right = arr[i]\n",
    "        for j in range(i + 1 , n) :\n",
    "            right = max(right, arr[j])\n",
    "        res = res + (min(left, right) - arr[i])\n",
    "    return res;\n",
    "\n",
    "\n",
    "arr = [0, 1, 0, 2, 1, 0, 1, 3, 2, 1, 2, 1];\n",
    "n = len(arr);\n",
    "print(maxWater(arr, n));"
   ]
  },
  {
   "cell_type": "code",
   "execution_count": null,
   "id": "de2780cc",
   "metadata": {},
   "outputs": [],
   "source": []
  }
 ],
 "metadata": {
  "kernelspec": {
   "display_name": "Python 3 (ipykernel)",
   "language": "python",
   "name": "python3"
  },
  "language_info": {
   "codemirror_mode": {
    "name": "ipython",
    "version": 3
   },
   "file_extension": ".py",
   "mimetype": "text/x-python",
   "name": "python",
   "nbconvert_exporter": "python",
   "pygments_lexer": "ipython3",
   "version": "3.9.7"
  }
 },
 "nbformat": 4,
 "nbformat_minor": 5
}
