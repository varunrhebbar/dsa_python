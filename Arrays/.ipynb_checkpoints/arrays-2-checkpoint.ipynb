{
 "cells": [
  {
   "cell_type": "code",
   "execution_count": 21,
   "id": "4fd5ec86",
   "metadata": {},
   "outputs": [
    {
     "name": "stdout",
     "output_type": "stream",
     "text": [
      "Repeating 5\n"
     ]
    }
   ],
   "source": [
    "# Duplicates \n",
    "def repeating(arr,size):\n",
    "    for i in range(size):\n",
    "        if arr[abs(arr[i])-1] > 0:\n",
    "            arr[abs(arr[i])-1]=-arr[abs(arr[i])-1]\n",
    "        else:\n",
    "            print(\"Repeating\",abs(arr[i]))\n",
    "arr = [7, 3, 4, 5, 5, 6, 2]\n",
    "n = len(arr)\n",
    "repeating(arr,n)\n",
    "            \n",
    "        "
   ]
  },
  {
   "cell_type": "code",
   "execution_count": 2,
   "id": "e9563ced",
   "metadata": {},
   "outputs": [
    {
     "name": "stdout",
     "output_type": "stream",
     "text": [
      "Inversion count 8\n"
     ]
    }
   ],
   "source": [
    "# Inversion\n",
    "def inversion(arr,n):\n",
    "    count=0\n",
    "    for i in range(n):\n",
    "        for j in range(i+1,n):\n",
    "            if(arr[i]>arr[j]):\n",
    "                count += 1\n",
    "    return count\n",
    "arr = [1, 20, 6, 4, 5, 4.5]\n",
    "n = len(arr)\n",
    "print(\"Inversion count\",inversion(arr,n))"
   ]
  },
  {
   "cell_type": "code",
   "execution_count": null,
   "id": "e4026faf",
   "metadata": {},
   "outputs": [],
   "source": []
  }
 ],
 "metadata": {
  "kernelspec": {
   "display_name": "Python 3 (ipykernel)",
   "language": "python",
   "name": "python3"
  },
  "language_info": {
   "codemirror_mode": {
    "name": "ipython",
    "version": 3
   },
   "file_extension": ".py",
   "mimetype": "text/x-python",
   "name": "python",
   "nbconvert_exporter": "python",
   "pygments_lexer": "ipython3",
   "version": "3.9.7"
  }
 },
 "nbformat": 4,
 "nbformat_minor": 5
}
