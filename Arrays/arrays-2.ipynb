{
 "cells": [
  {
   "cell_type": "code",
   "execution_count": 21,
   "id": "4fd5ec86",
   "metadata": {},
   "outputs": [
    {
     "name": "stdout",
     "output_type": "stream",
     "text": [
      "Repeating 5\n"
     ]
    }
   ],
   "source": [
    "# Duplicates \n",
    "def repeating(arr,size):\n",
    "    for i in range(size):\n",
    "        if arr[abs(arr[i])-1] > 0:\n",
    "            arr[abs(arr[i])-1]=-arr[abs(arr[i])-1]\n",
    "        else:\n",
    "            print(\"Repeating\",abs(arr[i]))\n",
    "arr = [7, 3, 4, 5, 5, 6, 2]\n",
    "n = len(arr)\n",
    "repeating(arr,n)\n",
    "            \n",
    "        "
   ]
  },
  {
   "cell_type": "code",
   "execution_count": 2,
   "id": "e9563ced",
   "metadata": {},
   "outputs": [
    {
     "name": "stdout",
     "output_type": "stream",
     "text": [
      "Inversion count 8\n"
     ]
    }
   ],
   "source": [
    "# Inversion\n",
    "def inversion(arr,n):\n",
    "    count=0\n",
    "    for i in range(n):\n",
    "        for j in range(i+1,n):\n",
    "            if(arr[i]>arr[j]):\n",
    "                count += 1\n",
    "    return count\n",
    "arr = [1, 20, 6, 4, 5, 4.5]\n",
    "n = len(arr)\n",
    "print(\"Inversion count\",inversion(arr,n))"
   ]
  },
  {
   "cell_type": "code",
   "execution_count": 23,
   "id": "e4026faf",
   "metadata": {},
   "outputs": [
    {
     "name": "stdout",
     "output_type": "stream",
     "text": [
      "5\n",
      "count pairs are: 2\n"
     ]
    }
   ],
   "source": [
    "#count pairs of sum\n",
    "def countpairs(arr,sums):\n",
    "    count=0\n",
    "    for i in range(n):\n",
    "        for j in range(i+1,n):\n",
    "            if arr[i]+arr[j]==sums:\n",
    "                count+=1\n",
    "    return count\n",
    "arr=[1,2,3,4,5,6,-7,-8,-9,-10]\n",
    "sums=int(input())\n",
    "n=len(arr)\n",
    "print(\"count pairs are:\",countpairs(arr,sums))"
   ]
  },
  {
   "cell_type": "markdown",
   "id": "53e4db8a",
   "metadata": {},
   "source": [
    "#### "
   ]
  },
  {
   "cell_type": "code",
   "execution_count": 36,
   "id": "dd1cbef7",
   "metadata": {},
   "outputs": [
    {
     "name": "stdout",
     "output_type": "stream",
     "text": [
      "20\n",
      "80\n",
      "Common elements are None\n"
     ]
    }
   ],
   "source": [
    "# Common elements in sorted arrays\n",
    "def findCommon(arr1, arr2, arr3, n1, n2, n3):\n",
    "    i=0\n",
    "    j=0\n",
    "    k=0\n",
    "    while (i < n1 and j < n2 and k< n3):\n",
    "        if (arr1[i] == arr2[j] and arr2[j] == arr3[k]):\n",
    "            print (arr1[i])\n",
    "            i += 1\n",
    "            j += 1\n",
    "            k += 1  \n",
    "        elif arr1[i] < arr2[j]:\n",
    "            i += 1 \n",
    "        elif arr2[j] < arr3[k]:\n",
    "            j += 1 \n",
    "        else:\n",
    "            k += 1\n",
    "arr1 = [1, 5, 10, 20, 40, 80]\n",
    "arr2 = [6, 7, 20, 80, 100]\n",
    "arr3 = [3, 4, 15, 20, 30, 70, 80, 120]\n",
    "n1 = len(ar1)\n",
    "n2 = len(ar2)\n",
    "n3 = len(ar3)\n",
    "\n",
    "print (\"Common elements are\",findCommon(arr1, arr2, arr3, n1, n2, n3))"
   ]
  },
  {
   "cell_type": "code",
   "execution_count": 45,
   "id": "fe00e77a",
   "metadata": {},
   "outputs": [
    {
     "name": "stdout",
     "output_type": "stream",
     "text": [
      "does not exist \n"
     ]
    }
   ],
   "source": [
    "# Subarray with sum 0 check\n",
    "def subarray(arr,n):\n",
    "    nsum=0\n",
    "    s=set()\n",
    "    for i in range(n):\n",
    "        nsum+=arr[i]\n",
    "        if nsum==0 or nsum in s:\n",
    "            return True\n",
    "        s.add(nsum)\n",
    "    return False\n",
    "arr=[1,2,3,4]\n",
    "n=len(arr)\n",
    "if subarray(arr,n)==True:\n",
    "    print(\"exist\")\n",
    "else:\n",
    "    print(\"does not exist \")"
   ]
  },
  {
   "cell_type": "code",
   "execution_count": 51,
   "id": "fa4666ea",
   "metadata": {},
   "outputs": [
    {
     "name": "stdout",
     "output_type": "stream",
     "text": [
      "11\n",
      "9\n"
     ]
    }
   ],
   "source": [
    "# Elements that appear more than n/k times\n",
    "def appearsnktimes(arr,n,k):\n",
    "    x=n//k\n",
    "    freq={}\n",
    "    for i in range(n):\n",
    "        if arr[i] in freq:\n",
    "            freq [arr[i]]+=1\n",
    "        else:\n",
    "            freq [arr[i]]=1\n",
    "    for i in freq:\n",
    "        if (freq[i]>x):\n",
    "            print(i)\n",
    "arr=[11,11,22,3,5,7,8,9,9,11,44,3,9,10]\n",
    "n=len(arr)\n",
    "k=6\n",
    "appearsnktimes(arr,n,k)"
   ]
  },
  {
   "cell_type": "code",
   "execution_count": 1,
   "id": "bd997536",
   "metadata": {},
   "outputs": [
    {
     "ename": "IndentationError",
     "evalue": "expected an indented block (Temp/ipykernel_6448/417546715.py, line 4)",
     "output_type": "error",
     "traceback": [
      "\u001b[1;36m  File \u001b[1;32m\"C:\\Users\\varun\\AppData\\Local\\Temp/ipykernel_6448/417546715.py\"\u001b[1;36m, line \u001b[1;32m4\u001b[0m\n\u001b[1;33m    def maxsum(arr,n,k):\u001b[0m\n\u001b[1;37m                        ^\u001b[0m\n\u001b[1;31mIndentationError\u001b[0m\u001b[1;31m:\u001b[0m expected an indented block\n"
     ]
    }
   ],
   "source": [
    "# Window sliding technique\n",
    "import sys\n",
    "INT_MIN=sys.maxsize-1\n",
    "def maxsum(arr,n,k):\n",
    "    max_sum=INT_MIN\n",
    "    for i in range(n-k+1):\n",
    "        current_sum=0\n",
    "        for j in range(k):\n",
    "            current_sum=current_sum=arr[i+j]\n",
    "        max_sum=max(current_sum,max_sum)\n",
    "    return max_sum\n",
    "arr=[2,5,7,9,2,1,5,7,8]\n"
   ]
  },
  {
   "cell_type": "code",
   "execution_count": null,
   "id": "5f63c964",
   "metadata": {},
   "outputs": [],
   "source": []
  },
  {
   "cell_type": "code",
   "execution_count": null,
   "id": "f8c11c96",
   "metadata": {},
   "outputs": [],
   "source": []
  }
 ],
 "metadata": {
  "kernelspec": {
   "display_name": "Python 3 (ipykernel)",
   "language": "python",
   "name": "python3"
  },
  "language_info": {
   "codemirror_mode": {
    "name": "ipython",
    "version": 3
   },
   "file_extension": ".py",
   "mimetype": "text/x-python",
   "name": "python",
   "nbconvert_exporter": "python",
   "pygments_lexer": "ipython3",
   "version": "3.9.7"
  }
 },
 "nbformat": 4,
 "nbformat_minor": 5
}
