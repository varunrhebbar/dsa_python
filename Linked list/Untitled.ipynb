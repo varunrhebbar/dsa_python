{
 "cells": [
  {
   "cell_type": "code",
   "execution_count": 17,
   "id": "18d5cb6e",
   "metadata": {},
   "outputs": [
    {
     "name": "stdout",
     "output_type": "stream",
     "text": [
      "1\n",
      "2\n",
      "3\n"
     ]
    }
   ],
   "source": [
    "class Node:\n",
    "    def __init__(self,data):\n",
    "        self.data=data\n",
    "        self.next=None\n",
    "class Linkedlist:\n",
    "    def __init__(self):\n",
    "        self.head=None\n",
    "        \n",
    "    def printList(self):\n",
    "        temp = self.head\n",
    "        while (temp):\n",
    "            print (temp.data)\n",
    "            temp = temp.next\n",
    "if __name__=='__main__':\n",
    " \n",
    "        llist = LinkedList()\n",
    " \n",
    "        llist.head = Node(1)\n",
    "        second = Node(2)\n",
    "        third = Node(3)\n",
    "        \n",
    "        llist.head.next = second\n",
    "        second.next = third\n",
    "        llist = LinkedList()\n",
    " \n",
    "        llist.head = Node(1)\n",
    "        second = Node(2)\n",
    "        third = Node(3)\n",
    "\n",
    "        llist.head.next = second\n",
    "        second.next = third\n",
    "\n",
    "        llist.printList()"
   ]
  },
  {
   "cell_type": "code",
   "execution_count": null,
   "id": "ef1fe5b0",
   "metadata": {},
   "outputs": [],
   "source": []
  },
  {
   "cell_type": "code",
   "execution_count": null,
   "id": "695ee9b9",
   "metadata": {},
   "outputs": [],
   "source": []
  }
 ],
 "metadata": {
  "kernelspec": {
   "display_name": "Python 3 (ipykernel)",
   "language": "python",
   "name": "python3"
  },
  "language_info": {
   "codemirror_mode": {
    "name": "ipython",
    "version": 3
   },
   "file_extension": ".py",
   "mimetype": "text/x-python",
   "name": "python",
   "nbconvert_exporter": "python",
   "pygments_lexer": "ipython3",
   "version": "3.9.7"
  }
 },
 "nbformat": 4,
 "nbformat_minor": 5
}
