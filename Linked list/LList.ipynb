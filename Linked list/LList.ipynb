{
 "cells": [
  {
   "cell_type": "code",
   "execution_count": 17,
   "id": "18d5cb6e",
   "metadata": {},
   "outputs": [
    {
     "name": "stdout",
     "output_type": "stream",
     "text": [
      "1\n",
      "2\n",
      "3\n"
     ]
    }
   ],
   "source": [
    "class Node:\n",
    "    def __init__(self,data):\n",
    "        self.data=data\n",
    "        self.next=None\n",
    "class Linkedlist:\n",
    "    def __init__(self):\n",
    "        self.head=None\n",
    "        \n",
    "    def printList(self):\n",
    "        temp = self.head\n",
    "        while (temp):\n",
    "            print (temp.data)\n",
    "            temp = temp.next\n",
    "if __name__=='__main__':\n",
    " \n",
    "        llist = LinkedList()\n",
    " \n",
    "        llist.head = Node(1)\n",
    "        second = Node(2)\n",
    "        third = Node(3)\n",
    "        \n",
    "        llist.head.next = second\n",
    "        second.next = third\n",
    "        llist = LinkedList()\n",
    " \n",
    "        llist.head = Node(1)\n",
    "        second = Node(2)\n",
    "        third = Node(3)\n",
    "\n",
    "        llist.head.next = second\n",
    "        second.next = third\n",
    "\n",
    "        llist.printList()"
   ]
  },
  {
   "cell_type": "code",
   "execution_count": 29,
   "id": "ef1fe5b0",
   "metadata": {},
   "outputs": [],
   "source": [
    "#Linked list insertion\n",
    "#front\n",
    "def push(self, new_data):\n",
    "    new_node = Node(new_data)\n",
    "    new_node.next = self.head\n",
    "    self.head = new_node"
   ]
  },
  {
   "cell_type": "code",
   "execution_count": 30,
   "id": "695ee9b9",
   "metadata": {},
   "outputs": [],
   "source": [
    "#Middle\n",
    "def middle(self, prev_node, new_data):\n",
    " \n",
    "    if prev_node is None:\n",
    "        print(\"The given previous node must in LinkedList.\")\n",
    "        return\n",
    "    new_node = Node(new_data)\n",
    "    new_node.next = prev_node.next\n",
    "    prev_node.next = new_node"
   ]
  },
  {
   "cell_type": "code",
   "execution_count": 33,
   "id": "04deadb6",
   "metadata": {},
   "outputs": [],
   "source": [
    "#Last\n",
    "def last(self, new_data):\n",
    " \n",
    "        new_node = Node(new_data)\n",
    "\n",
    "        if self.head is None:\n",
    "            self.head = new_node\n",
    "            return\n",
    " \n",
    "        last = self.head\n",
    "        while (last.next):\n",
    "            last = last.next\n",
    " \n",
    "        last.next = new_node"
   ]
  },
  {
   "cell_type": "code",
   "execution_count": 34,
   "id": "257526c4",
   "metadata": {},
   "outputs": [
    {
     "name": "stdout",
     "output_type": "stream",
     "text": [
      "Created linked list is: \n",
      "1 7 8 6 4 "
     ]
    }
   ],
   "source": [
    "class Node:\n",
    "    def __init__(self, data):\n",
    "        self.data = data  # Assign data\n",
    "        self.next = None  # Initialize next as null\n",
    "\n",
    "class LinkedList:\n",
    "    def __init__(self):\n",
    "        self.head = None\n",
    "    def push(self, new_data):\n",
    "\n",
    "        new_node = Node(new_data)\n",
    "\n",
    "        new_node.next = self.head\n",
    " \n",
    "        self.head = new_node\n",
    " \n",
    "    def middle(self, prev_node, new_data):\n",
    " \n",
    "        # 1. check if the given prev_node exists\n",
    "        if prev_node is None:\n",
    "            print(\"The given previous node must inLinkedList.\")\n",
    "            return\n",
    "\n",
    "        new_node = Node(new_data)\n",
    "\n",
    "        new_node.next = prev_node.next\n",
    "\n",
    "        prev_node.next = new_node\n",
    "\n",
    "    def last(self, new_data):\n",
    " \n",
    "        new_node = Node(new_data)\n",
    " \n",
    "        if self.head is None:\n",
    "            self.head = new_node\n",
    "            return\n",
    "\n",
    "        last = self.head\n",
    "        while (last.next):\n",
    "            last = last.next\n",
    "\n",
    "        last.next =  new_node\n",
    "    def printList(self):\n",
    "        temp = self.head\n",
    "        while (temp):\n",
    "            print(temp.data,end=\" \")\n",
    "            temp = temp.next\n",
    "if __name__=='__main__':\n",
    "    llist = LinkedList()\n",
    "\n",
    "    llist.last(6)\n",
    "    llist.push(7);\n",
    "    llist.push(1);\n",
    "    llist.last(4)\n",
    "    llist.middle(llist.head.next, 8)\n",
    " \n",
    "    print('Created linked list is: ')\n",
    "    llist.printList()"
   ]
  },
  {
   "cell_type": "code",
   "execution_count": null,
   "id": "87347920",
   "metadata": {},
   "outputs": [],
   "source": []
  }
 ],
 "metadata": {
  "kernelspec": {
   "display_name": "Python 3 (ipykernel)",
   "language": "python",
   "name": "python3"
  },
  "language_info": {
   "codemirror_mode": {
    "name": "ipython",
    "version": 3
   },
   "file_extension": ".py",
   "mimetype": "text/x-python",
   "name": "python",
   "nbconvert_exporter": "python",
   "pygments_lexer": "ipython3",
   "version": "3.9.7"
  }
 },
 "nbformat": 4,
 "nbformat_minor": 5
}
