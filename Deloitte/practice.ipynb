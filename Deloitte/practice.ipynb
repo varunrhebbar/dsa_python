{
 "cells": [
  {
   "cell_type": "code",
   "execution_count": 8,
   "id": "c55b8217",
   "metadata": {},
   "outputs": [
    {
     "name": "stdout",
     "output_type": "stream",
     "text": [
      "29\n"
     ]
    }
   ],
   "source": [
    "def Add(x, y):   \n",
    "    if (y == 0):\n",
    "        return x\n",
    "    else:\n",
    "        return Add( x ^ y, (x & y) << 1)\n",
    "x=10\n",
    "y=19\n",
    "print(Add(x,y))"
   ]
  },
  {
   "cell_type": "code",
   "execution_count": 11,
   "id": "3352c7d9",
   "metadata": {},
   "outputs": [
    {
     "data": {
      "text/plain": [
       "21"
      ]
     },
     "execution_count": 11,
     "metadata": {},
     "output_type": "execute_result"
    }
   ],
   "source": [
    "#Add without + op\n",
    "def add(x,y):\n",
    "    for i in range(1,y+1):\n",
    "        x+=1\n",
    "    return x\n",
    "x=10\n",
    "y=11\n",
    "add(x,y)"
   ]
  },
  {
   "cell_type": "code",
   "execution_count": 23,
   "id": "d5e43a6a",
   "metadata": {},
   "outputs": [
    {
     "data": {
      "text/plain": [
       "[0, 1, 2, 5, 7, 7, 44, 88, 89]"
      ]
     },
     "execution_count": 23,
     "metadata": {},
     "output_type": "execute_result"
    }
   ],
   "source": [
    "#Merge 2 sorted arrays\n",
    "def merge(nums1,nums2):\n",
    "        nums3=nums1+nums2\n",
    "        nums3.sort()\n",
    "        return nums3\n",
    "        \n",
    "nums1=[1,2,7,89,0]\n",
    "nums2=[5,88,7,44]\n",
    "\n",
    "merge(nums1,nums2)"
   ]
  },
  {
   "cell_type": "code",
   "execution_count": 46,
   "id": "1d0177b4",
   "metadata": {},
   "outputs": [
    {
     "name": "stdout",
     "output_type": "stream",
     "text": [
      "pairs are 3 4\n"
     ]
    }
   ],
   "source": [
    "def paircheck(arr,x,n):\n",
    "    for i in range(0,n-1):\n",
    "        for j in range(i+1,n):\n",
    "            if arr[i]+arr[j]==x:\n",
    "                print(\"pairs are\",arr[i],arr[j])\n",
    "                return True\n",
    "            else:\n",
    "                print(\"No pairs\")  \n",
    "    return 0 \n",
    "arr=[3,4,7,6,2,8] \n",
    "paircheck(arr,x,n)\n",
    "x=7                                            "
   ]
  },
  {
   "cell_type": "code",
   "execution_count": 71,
   "id": "e9c3be2d",
   "metadata": {},
   "outputs": [
    {
     "name": "stdout",
     "output_type": "stream",
     "text": [
      "None\n",
      "6 4 3 2 1 18 9 78 "
     ]
    }
   ],
   "source": [
    "#Reverse an array with k value\n",
    "def reversek(arr,k):\n",
    "    i = 0\n",
    "    while(i<n):\n",
    "        left=i\n",
    "        right=min(k-1+i,n-1);\n",
    "        while (left < right) :\n",
    "            arr[left],arr[right]=arr[right],arr[left];\n",
    "            left+=1\n",
    "            right-=1\n",
    "        i+=k   \n",
    "arr=[1,2,3,4,6,78,9,18]\n",
    "k=5\n",
    "n=len(arr)\n",
    "print(reversek(arr,k))\n",
    "for i in range(0, n):\n",
    "        print(arr[i], end =\" \")"
   ]
  },
  {
   "cell_type": "code",
   "execution_count": null,
   "id": "0f481830",
   "metadata": {},
   "outputs": [],
   "source": []
  },
  {
   "cell_type": "code",
   "execution_count": null,
   "id": "9c11abf5",
   "metadata": {},
   "outputs": [],
   "source": []
  }
 ],
 "metadata": {
  "kernelspec": {
   "display_name": "Python 3 (ipykernel)",
   "language": "python",
   "name": "python3"
  },
  "language_info": {
   "codemirror_mode": {
    "name": "ipython",
    "version": 3
   },
   "file_extension": ".py",
   "mimetype": "text/x-python",
   "name": "python",
   "nbconvert_exporter": "python",
   "pygments_lexer": "ipython3",
   "version": "3.9.7"
  }
 },
 "nbformat": 4,
 "nbformat_minor": 5
}
