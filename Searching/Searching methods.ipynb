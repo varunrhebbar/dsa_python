{
 "cells": [
  {
   "cell_type": "code",
   "execution_count": 5,
   "id": "19390528",
   "metadata": {},
   "outputs": [
    {
     "name": "stdout",
     "output_type": "stream",
     "text": [
      "Element found at index: 5\n"
     ]
    }
   ],
   "source": [
    "def linear(arr,key):\n",
    "    for i in range(len(arr)):\n",
    "        if(arr[i]==key):\n",
    "            return i\n",
    "    return -1\n",
    "arr=[1,2,3,4,5,60]\n",
    "key=60\n",
    "res=linear(arr,key)\n",
    "if res==-1:\n",
    "    print(\"element not found :\")\n",
    "else:\n",
    "    print(\"Element found at index:\",res)"
   ]
  },
  {
   "cell_type": "code",
   "execution_count": 2,
   "id": "2de5c6fb",
   "metadata": {},
   "outputs": [
    {
     "name": "stdout",
     "output_type": "stream",
     "text": [
      "Element is present at index 5\n"
     ]
    }
   ],
   "source": [
    "def binarysearch(arr,left,right,key):\n",
    "    if right>=left:\n",
    "        mid=(left+right//2)\n",
    "        if arr[mid] == key:\n",
    "            return mid\n",
    "        elif arr[mid] > key:\n",
    "            return binarysearch(arr, left, mid-1, key)\n",
    "        else:\n",
    "            return binarysearch(arr, mid + 1, right, key)\n",
    "    else:\n",
    "        return -1\n",
    "arr=[1,2,3,4,5,60]\n",
    "key=60\n",
    "left=0\n",
    "right=len(arr)-1\n",
    "res=binarysearch(arr,left,right,key)\n",
    "if res == -1:\n",
    "    print(\"Element is not present in array\")\n",
    "else:\n",
    "    print(\"Element is present at index\",res)"
   ]
  },
  {
   "cell_type": "code",
   "execution_count": null,
   "id": "74b00360",
   "metadata": {},
   "outputs": [],
   "source": []
  }
 ],
 "metadata": {
  "kernelspec": {
   "display_name": "Python 3 (ipykernel)",
   "language": "python",
   "name": "python3"
  },
  "language_info": {
   "codemirror_mode": {
    "name": "ipython",
    "version": 3
   },
   "file_extension": ".py",
   "mimetype": "text/x-python",
   "name": "python",
   "nbconvert_exporter": "python",
   "pygments_lexer": "ipython3",
   "version": "3.9.7"
  }
 },
 "nbformat": 4,
 "nbformat_minor": 5
}
