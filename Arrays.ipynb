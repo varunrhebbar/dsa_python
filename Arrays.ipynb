{
 "cells": [
  {
   "cell_type": "code",
   "execution_count": 4,
   "id": "e08703ce",
   "metadata": {},
   "outputs": [
    {
     "name": "stdout",
     "output_type": "stream",
     "text": [
      "Revese array is\n",
      "[4, 3, 2, 1]\n"
     ]
    }
   ],
   "source": [
    "#Reverse an array\n",
    "def reverse_array(arr):\n",
    "    print(arr[::-1])\n",
    "arr=[1,2,3,4]\n",
    "print(\"Revese array is\")\n",
    "reverse_array(arr)"
   ]
  },
  {
   "cell_type": "code",
   "execution_count": 7,
   "id": "d70ca387",
   "metadata": {},
   "outputs": [
    {
     "name": "stdout",
     "output_type": "stream",
     "text": [
      "max 44\n",
      "min -2\n"
     ]
    }
   ],
   "source": [
    "#maximun & minimum element in an array\n",
    "\n",
    "def findminmax(num):\n",
    "    max=min=num[0]\n",
    "    for i in range(1,len(num)):\n",
    "        if num[i]>max:\n",
    "            max=num[i]\n",
    "        elif num[i]<max:\n",
    "            min=num[i]\n",
    "    print(\"max\",max)\n",
    "    print(\"min\",min)\n",
    "if __name__ =='__main__':\n",
    "    num=[5,44,3,11,0,-2]\n",
    "    findminmax(num)\n",
    "        "
   ]
  },
  {
   "cell_type": "code",
   "execution_count": null,
   "id": "735829c6",
   "metadata": {},
   "outputs": [],
   "source": []
  }
 ],
 "metadata": {
  "kernelspec": {
   "display_name": "Python 3 (ipykernel)",
   "language": "python",
   "name": "python3"
  },
  "language_info": {
   "codemirror_mode": {
    "name": "ipython",
    "version": 3
   },
   "file_extension": ".py",
   "mimetype": "text/x-python",
   "name": "python",
   "nbconvert_exporter": "python",
   "pygments_lexer": "ipython3",
   "version": "3.9.7"
  }
 },
 "nbformat": 4,
 "nbformat_minor": 5
}
