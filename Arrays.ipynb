{
 "cells": [
  {
   "cell_type": "code",
   "execution_count": 4,
   "id": "75133147",
   "metadata": {},
   "outputs": [
    {
     "name": "stdout",
     "output_type": "stream",
     "text": [
      "Revese array is\n",
      "[4, 3, 2, 1]\n"
     ]
    }
   ],
   "source": [
    "#Reverse an array\n",
    "def reverse_array(arr):\n",
    "    print(arr[::-1])\n",
    "arr=[1,2,3,4]\n",
    "print(\"Revese array is\")\n",
    "reverse_array(arr)"
   ]
  },
  {
   "cell_type": "code",
   "execution_count": 7,
   "id": "12f30a39",
   "metadata": {},
   "outputs": [
    {
     "name": "stdout",
     "output_type": "stream",
     "text": [
      "max 44\n",
      "min -2\n"
     ]
    }
   ],
   "source": [
    "#maximun & minimum element in an array\n",
    "\n",
    "def findminmax(num):\n",
    "    max=min=num[0]\n",
    "    for i in range(1,len(num)):\n",
    "        if num[i]>max:\n",
    "            max=num[i]\n",
    "        elif num[i]<max:\n",
    "            min=num[i]\n",
    "    print(\"max\",max)\n",
    "    print(\"min\",min)\n",
    "if __name__ =='__main__':\n",
    "    num=[5,44,3,11,0,-2]\n",
    "    findminmax(num)\n",
    "        "
   ]
  },
  {
   "cell_type": "code",
   "execution_count": 12,
   "id": "fd87693d",
   "metadata": {},
   "outputs": [
    {
     "name": "stdout",
     "output_type": "stream",
     "text": [
      "Kth smallest term is 67\n"
     ]
    }
   ],
   "source": [
    "# Kth smallest term\n",
    "\n",
    "def kthsmallest(arr,n,k):\n",
    "    arr.sort()\n",
    "    return arr[k-1]\n",
    "if __name__=='__main__':\n",
    "    arr=[12,45,67,89,65,33]\n",
    "    n=len(arr)\n",
    "    k=5\n",
    "    print(\"Kth smallest term is\",kthsmallest(arr,n,k))"
   ]
  },
  {
   "cell_type": "code",
   "execution_count": 40,
   "id": "af326ceb",
   "metadata": {},
   "outputs": [
    {
     "name": "stdout",
     "output_type": "stream",
     "text": [
      "0 0 0 0 0 1 1 1 1 1 2 2 "
     ]
    }
   ],
   "source": [
    "#Sort an array of 0s, 1s and 2s\n",
    "def printarr(arr, n):\n",
    "    for i in range(n):\n",
    "        print(arr[i],end=\" \")\n",
    "\n",
    "def sortArr(arr, n):\n",
    "    cnt0 = 0\n",
    "    cnt1 = 0\n",
    "    cnt2 = 0\n",
    "\n",
    "    for i in range(n):\n",
    "        if arr[i] == 0:\n",
    "            cnt0+=1\n",
    "\n",
    "        elif arr[i] == 1:\n",
    "            cnt1+=1\n",
    "\n",
    "        elif arr[i] == 2:\n",
    "            cnt2+=1\n",
    "    i = 0\n",
    "    while (cnt0 > 0):\n",
    "        arr[i] = 0\n",
    "        i+=1\n",
    "        cnt0-=1\n",
    "    while (cnt1 > 0):\n",
    "        arr[i] = 1\n",
    "        i+=1\n",
    "        cnt1-=1\n",
    "    while (cnt2 > 0):\n",
    "        arr[i] = 2\n",
    "        i+=1\n",
    "        cnt2-=1\n",
    "    printarr(arr, n)\n",
    "arr = [0, 1, 1, 0, 1, 2, 1, 2, 0, 0, 0, 1]\n",
    "n = len(arr)\n",
    "\n",
    "sortArr(arr, n)\n"
   ]
  },
  {
   "cell_type": "code",
   "execution_count": 46,
   "id": "34c4a522",
   "metadata": {},
   "outputs": [
    {
     "name": "stdout",
     "output_type": "stream",
     "text": [
      "5\n",
      "1\n",
      "2\n",
      "3\n",
      "4\n"
     ]
    }
   ],
   "source": [
    "#rotate an array by 1\n",
    "\n",
    "def rotate(arr,n):\n",
    "    x=arr[n-1]\n",
    "    for i in range(n-1,0,-1):\n",
    "        arr[i]=arr[i-1]\n",
    "    arr[0]=x\n",
    "arr= [1, 2, 3, 4, 5]\n",
    "n = len(arr)\n",
    "rotate(arr,n)\n",
    "for i in range(0,n):\n",
    "    print(arr[i])"
   ]
  },
  {
   "cell_type": "code",
   "execution_count": 60,
   "id": "a930e755",
   "metadata": {},
   "outputs": [
    {
     "name": "stdout",
     "output_type": "stream",
     "text": [
      "-2\n"
     ]
    }
   ],
   "source": [
    "def maxsubarraysum(arr,size):\n",
    "    maximum=arr[0]\n",
    "    max_end=0\n",
    "    for i in range(0,size):\n",
    "        max_end=max_end+arr[i]\n",
    "        if max_end<0:\n",
    "            max_end=0\n",
    "        elif maximum<max_end:\n",
    "            maximum=max_end\n",
    "        return maximum\n",
    "arr = [-2, -3, 4, -1, -2, 1, 5, -3]\n",
    "size=len(arr)\n",
    "print(maxsubarraysum(arr,size))"
   ]
  },
  {
   "cell_type": "code",
   "execution_count": 63,
   "id": "9b8e2b16",
   "metadata": {},
   "outputs": [
    {
     "name": "stdout",
     "output_type": "stream",
     "text": [
      "Maximum contiguous sum is 7\n"
     ]
    }
   ],
   "source": [
    "# Python program to find maximum contiguous subarray\n",
    "\n",
    "def maxSubArraySum(a,size):\n",
    "\t\n",
    "\tmax_so_far =a[0]\n",
    "\tcurr_max = a[0]\n",
    "\t\n",
    "\tfor i in range(1,size):\n",
    "\t\tcurr_max = max(a[i], curr_max + a[i])\n",
    "\t\tmax_so_far = max(max_so_far,curr_max)\n",
    "\t\t\n",
    "\treturn max_so_far\n",
    "\n",
    "# Driver function to check the above function\n",
    "a = [-2, -3, 4, -1, -2, 1, 5, -3]\n",
    "print(\"Maximum contiguous sum is\" , maxSubArraySum(a,len(a)))\n",
    "\n",
    "#This code is contributed by _Devesh Agrawal_\n"
   ]
  },
  {
   "cell_type": "code",
   "execution_count": null,
   "id": "170d812a",
   "metadata": {},
   "outputs": [],
   "source": []
  }
 ],
 "metadata": {
  "kernelspec": {
   "display_name": "Python 3 (ipykernel)",
   "language": "python",
   "name": "python3"
  },
  "language_info": {
   "codemirror_mode": {
    "name": "ipython",
    "version": 3
   },
   "file_extension": ".py",
   "mimetype": "text/x-python",
   "name": "python",
   "nbconvert_exporter": "python",
   "pygments_lexer": "ipython3",
   "version": "3.9.7"
  }
 },
 "nbformat": 4,
 "nbformat_minor": 5
}
