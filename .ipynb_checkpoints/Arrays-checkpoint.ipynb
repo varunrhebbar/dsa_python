{
 "cells": [
  {
   "cell_type": "code",
   "execution_count": 4,
   "id": "7f0392eb",
   "metadata": {},
   "outputs": [
    {
     "name": "stdout",
     "output_type": "stream",
     "text": [
      "Revese array is\n",
      "[4, 3, 2, 1]\n"
     ]
    }
   ],
   "source": [
    "#Reverse an array\n",
    "def reverse_array(arr):\n",
    "    print(arr[::-1])\n",
    "arr=[1,2,3,4]\n",
    "print(\"Revese array is\")\n",
    "reverse_array(arr)"
   ]
  },
  {
   "cell_type": "code",
   "execution_count": 7,
   "id": "1398e7cf",
   "metadata": {},
   "outputs": [
    {
     "name": "stdout",
     "output_type": "stream",
     "text": [
      "max 44\n",
      "min -2\n"
     ]
    }
   ],
   "source": [
    "#maximun & minimum element in an array\n",
    "\n",
    "def findminmax(num):\n",
    "    max=min=num[0]\n",
    "    for i in range(1,len(num)):\n",
    "        if num[i]>max:\n",
    "            max=num[i]\n",
    "        elif num[i]<max:\n",
    "            min=num[i]\n",
    "    print(\"max\",max)\n",
    "    print(\"min\",min)\n",
    "if __name__ =='__main__':\n",
    "    num=[5,44,3,11,0,-2]\n",
    "    findminmax(num)\n",
    "        "
   ]
  },
  {
   "cell_type": "code",
   "execution_count": 12,
   "id": "a2ec7471",
   "metadata": {},
   "outputs": [
    {
     "name": "stdout",
     "output_type": "stream",
     "text": [
      "Kth smallest term is 67\n"
     ]
    }
   ],
   "source": [
    "# Kth smallest term\n",
    "\n",
    "def kthsmallest(arr,n,k):\n",
    "    arr.sort()\n",
    "    return arr[k-1]\n",
    "if __name__=='__main__':\n",
    "    arr=[12,45,67,89,65,33]\n",
    "    n=len(arr)\n",
    "    k=5\n",
    "    print(\"Kth smallest term is\",kthsmallest(arr,n,k))"
   ]
  },
  {
   "cell_type": "code",
   "execution_count": 39,
   "id": "4fa6c4ba",
   "metadata": {},
   "outputs": [
    {
     "name": "stdout",
     "output_type": "stream",
     "text": [
      "0 0 0 0 0 1 1 1 1 1 2 2 "
     ]
    }
   ],
   "source": [
    "# Python implementation of the approach\n",
    "def printarr(arr, n):\n",
    "    for i in range(n):\n",
    "        print(arr[i],end=\" \")\n",
    "\n",
    "def sortArr(arr, n):\n",
    "    cnt0 = 0\n",
    "    cnt1 = 0\n",
    "    cnt2 = 0\n",
    "\n",
    "    for i in range(n):\n",
    "        if arr[i] == 0:\n",
    "            cnt0+=1\n",
    "\n",
    "        elif arr[i] == 1:\n",
    "            cnt1+=1\n",
    "\n",
    "        elif arr[i] == 2:\n",
    "            cnt2+=1\n",
    "    i = 0\n",
    "    while (cnt0 > 0):\n",
    "        arr[i] = 0\n",
    "        i+=1\n",
    "        cnt0-=1\n",
    "    while (cnt1 > 0):\n",
    "        arr[i] = 1\n",
    "        i+=1\n",
    "        cnt1-=1\n",
    "    while (cnt2 > 0):\n",
    "        arr[i] = 2\n",
    "        i+=1\n",
    "        cnt2-=1\n",
    "    printarr(arr, n)\n",
    "arr = [0, 1, 1, 0, 1, 2, 1, 2, 0, 0, 0, 1]\n",
    "n = len(arr)\n",
    "\n",
    "sortArr(arr, n)\n"
   ]
  },
  {
   "cell_type": "code",
   "execution_count": null,
   "id": "e8410466",
   "metadata": {},
   "outputs": [],
   "source": []
  },
  {
   "cell_type": "code",
   "execution_count": null,
   "id": "e2b1fbb4",
   "metadata": {},
   "outputs": [],
   "source": []
  }
 ],
 "metadata": {
  "kernelspec": {
   "display_name": "Python 3 (ipykernel)",
   "language": "python",
   "name": "python3"
  },
  "language_info": {
   "codemirror_mode": {
    "name": "ipython",
    "version": 3
   },
   "file_extension": ".py",
   "mimetype": "text/x-python",
   "name": "python",
   "nbconvert_exporter": "python",
   "pygments_lexer": "ipython3",
   "version": "3.9.7"
  }
 },
 "nbformat": 4,
 "nbformat_minor": 5
}
