{
 "cells": [
  {
   "cell_type": "code",
   "execution_count": 10,
   "id": "a48f625c",
   "metadata": {},
   "outputs": [
    {
     "name": "stdout",
     "output_type": "stream",
     "text": [
      "<__main__.Node object at 0x000001A58ABCBEE0>\n"
     ]
    }
   ],
   "source": [
    "class Node:\n",
    "    def __init__(self, key):\n",
    "        self.left = None\n",
    "        self.right = None\n",
    "        self.val = key\n",
    "root = Node(1)\n",
    "root.left = Node(2)\n",
    "root.right = Node(3)\n",
    "root.left.left = Node(4)\n",
    "root.right.right=Node(5)\n",
    "print(root)"
   ]
  },
  {
   "cell_type": "code",
   "execution_count": 50,
   "id": "d21445fb",
   "metadata": {},
   "outputs": [
    {
     "name": "stdout",
     "output_type": "stream",
     "text": [
      " Preorder\n",
      "1\n",
      "2\n",
      "4\n",
      "3\n",
      "5\n",
      "\n",
      " Inorder\n",
      "4\n",
      "2\n",
      "1\n",
      "3\n",
      "5\n",
      "\n",
      " PostOrder\n",
      "4\n",
      "2\n",
      "5\n",
      "3\n",
      "1\n"
     ]
    }
   ],
   "source": [
    "from sklearn import tree\n",
    "class Node:\n",
    "    def __init__(self, key):\n",
    "        self.left = None\n",
    "        self.right = None\n",
    "        self.val = key\n",
    "    \n",
    "def inorder(root):\n",
    "    if root:\n",
    "        inorder(root.left)\n",
    "        print(root.val),\n",
    "        inorder(root.right)\n",
    "\n",
    "def preorder(root):\n",
    "    if root:\n",
    "        print(root.val)\n",
    "        preorder(root.left)\n",
    "        preorder(root.right)\n",
    "        \n",
    "def postorder(root):\n",
    "    if root:\n",
    "        postorder(root.left)\n",
    "        postorder(root.right)\n",
    "        print(root.val)\n",
    "\n",
    "root = Node(1)\n",
    "root.left = Node(2)\n",
    "root.right = Node(3)\n",
    "root.left.left = Node(4)\n",
    "root.right.right=Node(5)\n",
    "print (\" Preorder\"),\n",
    "preorder(root)\n",
    "print(\"\\n Inorder\")\n",
    "inorder(root)\n",
    "print(\"\\n PostOrder\")\n",
    "postorder(root)"
   ]
  },
  {
   "cell_type": "code",
   "execution_count": 66,
   "id": "755724a8",
   "metadata": {},
   "outputs": [],
   "source": [
    "# BST\n",
    "class Node:\n",
    "    def __init__(self, key):\n",
    "        self.left = None\n",
    "        self.right = None\n",
    "        self.val = key\n",
    "def insert(root,key):\n",
    "    if root==None:\n",
    "        return Node(key)\n",
    "    else:\n",
    "        if root.val==key:\n",
    "            return root\n",
    "        elif root.val>key:\n",
    "            root.left=insert(root.left,key)\n",
    "        else :\n",
    "            root.right=insert(root.right,key)\n",
    "    return root\n",
    "def inorder(root):\n",
    "    if root:\n",
    "        inorder(root.left)\n",
    "        print(root.val)\n",
    "        inorder(root.right) \n",
    "        \n",
    "r = Node(50)\n",
    "r = insert(root, 30)\n",
    "r = insert(root, 20)\n",
    "r = insert(root, 40)\n",
    "r = insert(root, 70)\n",
    "r = insert(root, 60)\n",
    "r = insert(root, 80)\n"
   ]
  },
  {
   "cell_type": "code",
   "execution_count": null,
   "id": "421513db",
   "metadata": {},
   "outputs": [],
   "source": []
  },
  {
   "cell_type": "code",
   "execution_count": null,
   "id": "8efeba7e",
   "metadata": {},
   "outputs": [],
   "source": []
  }
 ],
 "metadata": {
  "kernelspec": {
   "display_name": "Python 3 (ipykernel)",
   "language": "python",
   "name": "python3"
  },
  "language_info": {
   "codemirror_mode": {
    "name": "ipython",
    "version": 3
   },
   "file_extension": ".py",
   "mimetype": "text/x-python",
   "name": "python",
   "nbconvert_exporter": "python",
   "pygments_lexer": "ipython3",
   "version": "3.9.7"
  }
 },
 "nbformat": 4,
 "nbformat_minor": 5
}
